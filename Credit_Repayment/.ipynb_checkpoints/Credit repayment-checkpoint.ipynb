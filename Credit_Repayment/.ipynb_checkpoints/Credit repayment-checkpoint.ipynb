{
 "cells": [
  {
   "cell_type": "markdown",
   "id": "f896d7fe",
   "metadata": {},
   "source": [
    "# **Изучение влияния семейного положения и количества детей на погашение кредита в срок.**"
   ]
  },
  {
   "cell_type": "markdown",
   "id": "3ec317a1",
   "metadata": {},
   "source": [
    "#### Заказчик — кредитный отдел банка. \n",
    "#### Нужно разобраться, влияет ли семейное положение и количество детей клиента на факт погашения кредита в срок.\n",
    "#### Входные данные от банка — статистика о платёжеспособности клиентов.\n",
    "#### Результаты исследования будут учтены при построении модели кредитного скоринга — специальной системы, которая оценивает способность потенциального заёмщика вернуть кредит банку."
   ]
  },
  {
   "cell_type": "markdown",
   "id": "4ac9fd0b",
   "metadata": {},
   "source": [
    "# 1. Открытие и изучение БД"
   ]
  },
  {
   "cell_type": "markdown",
   "id": "0eb635c2",
   "metadata": {},
   "source": [
    "### Описание данных\n",
    "`children` — количество детей в семье\n",
    "\n",
    "`days_employed` — общий трудовой стаж в днях\n",
    "\n",
    "`dob_years` — возраст клиента в годах\n",
    "\n",
    "`education` — уровень образования клиента\n",
    "\n",
    "`education_id` — идентификатор уровня образования\n",
    "\n",
    "`family_status` — семейное положение\n",
    "\n",
    "`family_status_id` — идентификатор семейного положения\n",
    "\n",
    "`gender` — пол клиента\n",
    "\n",
    "`income_type` — тип занятости\n",
    "\n",
    "`debt` — имел ли задолженность по возврату кредитов\n",
    "\n",
    "`total_income` — ежемесячный доход\n",
    "\n",
    "`purpose` — цель получения кредита"
   ]
  },
  {
   "cell_type": "code",
   "execution_count": 1,
   "id": "69f3c331",
   "metadata": {},
   "outputs": [],
   "source": [
    "# Импорт библиотек\n",
    "import pandas as pd\n",
    "import numpy as np"
   ]
  },
  {
   "cell_type": "code",
   "execution_count": 2,
   "id": "d96959f8",
   "metadata": {},
   "outputs": [
    {
     "name": "stdout",
     "output_type": "stream",
     "text": [
      "<class 'pandas.core.frame.DataFrame'>\n",
      "RangeIndex: 21525 entries, 0 to 21524\n",
      "Data columns (total 12 columns):\n",
      " #   Column            Non-Null Count  Dtype  \n",
      "---  ------            --------------  -----  \n",
      " 0   children          21525 non-null  int64  \n",
      " 1   days_employed     19351 non-null  float64\n",
      " 2   dob_years         21525 non-null  int64  \n",
      " 3   education         21525 non-null  object \n",
      " 4   education_id      21525 non-null  int64  \n",
      " 5   family_status     21525 non-null  object \n",
      " 6   family_status_id  21525 non-null  int64  \n",
      " 7   gender            21525 non-null  object \n",
      " 8   income_type       21525 non-null  object \n",
      " 9   debt              21525 non-null  int64  \n",
      " 10  total_income      19351 non-null  float64\n",
      " 11  purpose           21525 non-null  object \n",
      "dtypes: float64(2), int64(5), object(5)\n",
      "memory usage: 2.0+ MB\n"
     ]
    }
   ],
   "source": [
    "# Чтение БД в датафрейм\n",
    "df = pd.read_csv('C:\\\\Users\\\\kovil\\\\Desktop\\\\Analitics\\\\data.csv')\n",
    "# Общая информация о датафрейме\n",
    "df.info()"
   ]
  },
  {
   "cell_type": "markdown",
   "id": "bf0479d1",
   "metadata": {},
   "source": [
    "##### Из общей информации датафрейма мы видим:\n",
    "* Всего 21525 строк, 12 колонок\n",
    "* Нулевые значения есть только в столбцах `'days_employed'` и `'total_income'`."
   ]
  },
  {
   "cell_type": "code",
   "execution_count": 3,
   "id": "66708ff2",
   "metadata": {
    "scrolled": false
   },
   "outputs": [
    {
     "data": {
      "text/html": [
       "<div>\n",
       "<style scoped>\n",
       "    .dataframe tbody tr th:only-of-type {\n",
       "        vertical-align: middle;\n",
       "    }\n",
       "\n",
       "    .dataframe tbody tr th {\n",
       "        vertical-align: top;\n",
       "    }\n",
       "\n",
       "    .dataframe thead th {\n",
       "        text-align: right;\n",
       "    }\n",
       "</style>\n",
       "<table border=\"1\" class=\"dataframe\">\n",
       "  <thead>\n",
       "    <tr style=\"text-align: right;\">\n",
       "      <th></th>\n",
       "      <th>children</th>\n",
       "      <th>days_employed</th>\n",
       "      <th>dob_years</th>\n",
       "      <th>education</th>\n",
       "      <th>education_id</th>\n",
       "      <th>family_status</th>\n",
       "      <th>family_status_id</th>\n",
       "      <th>gender</th>\n",
       "      <th>income_type</th>\n",
       "      <th>debt</th>\n",
       "      <th>total_income</th>\n",
       "      <th>purpose</th>\n",
       "    </tr>\n",
       "  </thead>\n",
       "  <tbody>\n",
       "    <tr>\n",
       "      <th>0</th>\n",
       "      <td>1</td>\n",
       "      <td>-8437.673028</td>\n",
       "      <td>42</td>\n",
       "      <td>высшее</td>\n",
       "      <td>0</td>\n",
       "      <td>женат / замужем</td>\n",
       "      <td>0</td>\n",
       "      <td>F</td>\n",
       "      <td>сотрудник</td>\n",
       "      <td>0</td>\n",
       "      <td>253875.639453</td>\n",
       "      <td>покупка жилья</td>\n",
       "    </tr>\n",
       "    <tr>\n",
       "      <th>1</th>\n",
       "      <td>1</td>\n",
       "      <td>-4024.803754</td>\n",
       "      <td>36</td>\n",
       "      <td>среднее</td>\n",
       "      <td>1</td>\n",
       "      <td>женат / замужем</td>\n",
       "      <td>0</td>\n",
       "      <td>F</td>\n",
       "      <td>сотрудник</td>\n",
       "      <td>0</td>\n",
       "      <td>112080.014102</td>\n",
       "      <td>приобретение автомобиля</td>\n",
       "    </tr>\n",
       "    <tr>\n",
       "      <th>2</th>\n",
       "      <td>0</td>\n",
       "      <td>-5623.422610</td>\n",
       "      <td>33</td>\n",
       "      <td>Среднее</td>\n",
       "      <td>1</td>\n",
       "      <td>женат / замужем</td>\n",
       "      <td>0</td>\n",
       "      <td>M</td>\n",
       "      <td>сотрудник</td>\n",
       "      <td>0</td>\n",
       "      <td>145885.952297</td>\n",
       "      <td>покупка жилья</td>\n",
       "    </tr>\n",
       "    <tr>\n",
       "      <th>3</th>\n",
       "      <td>3</td>\n",
       "      <td>-4124.747207</td>\n",
       "      <td>32</td>\n",
       "      <td>среднее</td>\n",
       "      <td>1</td>\n",
       "      <td>женат / замужем</td>\n",
       "      <td>0</td>\n",
       "      <td>M</td>\n",
       "      <td>сотрудник</td>\n",
       "      <td>0</td>\n",
       "      <td>267628.550329</td>\n",
       "      <td>дополнительное образование</td>\n",
       "    </tr>\n",
       "    <tr>\n",
       "      <th>4</th>\n",
       "      <td>0</td>\n",
       "      <td>340266.072047</td>\n",
       "      <td>53</td>\n",
       "      <td>среднее</td>\n",
       "      <td>1</td>\n",
       "      <td>гражданский брак</td>\n",
       "      <td>1</td>\n",
       "      <td>F</td>\n",
       "      <td>пенсионер</td>\n",
       "      <td>0</td>\n",
       "      <td>158616.077870</td>\n",
       "      <td>сыграть свадьбу</td>\n",
       "    </tr>\n",
       "    <tr>\n",
       "      <th>5</th>\n",
       "      <td>0</td>\n",
       "      <td>-926.185831</td>\n",
       "      <td>27</td>\n",
       "      <td>высшее</td>\n",
       "      <td>0</td>\n",
       "      <td>гражданский брак</td>\n",
       "      <td>1</td>\n",
       "      <td>M</td>\n",
       "      <td>компаньон</td>\n",
       "      <td>0</td>\n",
       "      <td>255763.565419</td>\n",
       "      <td>покупка жилья</td>\n",
       "    </tr>\n",
       "    <tr>\n",
       "      <th>6</th>\n",
       "      <td>0</td>\n",
       "      <td>-2879.202052</td>\n",
       "      <td>43</td>\n",
       "      <td>высшее</td>\n",
       "      <td>0</td>\n",
       "      <td>женат / замужем</td>\n",
       "      <td>0</td>\n",
       "      <td>F</td>\n",
       "      <td>компаньон</td>\n",
       "      <td>0</td>\n",
       "      <td>240525.971920</td>\n",
       "      <td>операции с жильем</td>\n",
       "    </tr>\n",
       "    <tr>\n",
       "      <th>7</th>\n",
       "      <td>0</td>\n",
       "      <td>-152.779569</td>\n",
       "      <td>50</td>\n",
       "      <td>СРЕДНЕЕ</td>\n",
       "      <td>1</td>\n",
       "      <td>женат / замужем</td>\n",
       "      <td>0</td>\n",
       "      <td>M</td>\n",
       "      <td>сотрудник</td>\n",
       "      <td>0</td>\n",
       "      <td>135823.934197</td>\n",
       "      <td>образование</td>\n",
       "    </tr>\n",
       "    <tr>\n",
       "      <th>8</th>\n",
       "      <td>2</td>\n",
       "      <td>-6929.865299</td>\n",
       "      <td>35</td>\n",
       "      <td>ВЫСШЕЕ</td>\n",
       "      <td>0</td>\n",
       "      <td>гражданский брак</td>\n",
       "      <td>1</td>\n",
       "      <td>F</td>\n",
       "      <td>сотрудник</td>\n",
       "      <td>0</td>\n",
       "      <td>95856.832424</td>\n",
       "      <td>на проведение свадьбы</td>\n",
       "    </tr>\n",
       "    <tr>\n",
       "      <th>9</th>\n",
       "      <td>0</td>\n",
       "      <td>-2188.756445</td>\n",
       "      <td>41</td>\n",
       "      <td>среднее</td>\n",
       "      <td>1</td>\n",
       "      <td>женат / замужем</td>\n",
       "      <td>0</td>\n",
       "      <td>M</td>\n",
       "      <td>сотрудник</td>\n",
       "      <td>0</td>\n",
       "      <td>144425.938277</td>\n",
       "      <td>покупка жилья для семьи</td>\n",
       "    </tr>\n",
       "  </tbody>\n",
       "</table>\n",
       "</div>"
      ],
      "text/plain": [
       "   children  days_employed  dob_years education  education_id  \\\n",
       "0         1   -8437.673028         42    высшее             0   \n",
       "1         1   -4024.803754         36   среднее             1   \n",
       "2         0   -5623.422610         33   Среднее             1   \n",
       "3         3   -4124.747207         32   среднее             1   \n",
       "4         0  340266.072047         53   среднее             1   \n",
       "5         0    -926.185831         27    высшее             0   \n",
       "6         0   -2879.202052         43    высшее             0   \n",
       "7         0    -152.779569         50   СРЕДНЕЕ             1   \n",
       "8         2   -6929.865299         35    ВЫСШЕЕ             0   \n",
       "9         0   -2188.756445         41   среднее             1   \n",
       "\n",
       "      family_status  family_status_id gender income_type  debt   total_income  \\\n",
       "0   женат / замужем                 0      F   сотрудник     0  253875.639453   \n",
       "1   женат / замужем                 0      F   сотрудник     0  112080.014102   \n",
       "2   женат / замужем                 0      M   сотрудник     0  145885.952297   \n",
       "3   женат / замужем                 0      M   сотрудник     0  267628.550329   \n",
       "4  гражданский брак                 1      F   пенсионер     0  158616.077870   \n",
       "5  гражданский брак                 1      M   компаньон     0  255763.565419   \n",
       "6   женат / замужем                 0      F   компаньон     0  240525.971920   \n",
       "7   женат / замужем                 0      M   сотрудник     0  135823.934197   \n",
       "8  гражданский брак                 1      F   сотрудник     0   95856.832424   \n",
       "9   женат / замужем                 0      M   сотрудник     0  144425.938277   \n",
       "\n",
       "                      purpose  \n",
       "0               покупка жилья  \n",
       "1     приобретение автомобиля  \n",
       "2               покупка жилья  \n",
       "3  дополнительное образование  \n",
       "4             сыграть свадьбу  \n",
       "5               покупка жилья  \n",
       "6           операции с жильем  \n",
       "7                 образование  \n",
       "8       на проведение свадьбы  \n",
       "9     покупка жилья для семьи  "
      ]
     },
     "execution_count": 3,
     "metadata": {},
     "output_type": "execute_result"
    }
   ],
   "source": [
    "# Просмотр первых 10 строк для общего ознакомления с данными\n",
    "df.head(10)"
   ]
  },
  {
   "cell_type": "markdown",
   "id": "4b268864",
   "metadata": {},
   "source": [
    "##### Из первых 10 строк видно:\n",
    "* Некоторые значения в столбце `'days_employed'` имеют знак `'минус'`. **Понять, почему**\n",
    "* Значения в столбце `'education'` бывают в разном регистре. **При работе с этим столбцом использовать lower() для приведения значений в нижний регистр**"
   ]
  },
  {
   "cell_type": "markdown",
   "id": "5f20a6f6",
   "metadata": {},
   "source": [
    "# 2. Предобработка данных"
   ]
  },
  {
   "cell_type": "markdown",
   "id": "dc0efe73",
   "metadata": {},
   "source": [
    "### Приведение датафрейма в порядок"
   ]
  },
  {
   "cell_type": "markdown",
   "id": "6be4ccf6",
   "metadata": {},
   "source": [
    "#### Пропуски"
   ]
  },
  {
   "cell_type": "code",
   "execution_count": 4,
   "id": "2a488684",
   "metadata": {},
   "outputs": [
    {
     "name": "stdout",
     "output_type": "stream",
     "text": [
      "Нулевых значений в 'total_income': 2174\n",
      "Доля нулевых значений в 'total_income': 10.1%.\n",
      "Нулевых значений в 'days_employed': 2174\n",
      "Доля нулевых значений в 'days_employed': 10.1%.\n"
     ]
    }
   ],
   "source": [
    "# Количество нулевых значений в 'total_income'\n",
    "count_null_total_income = df['total_income'].isna().sum()\n",
    "proportion_null_total_income = (count_null_total_income / 21525)\n",
    "print(f'Нулевых значений в \\'total_income\\': {count_null_total_income}')\n",
    "print(f'Доля нулевых значений в \\'total_income\\': {proportion_null_total_income:.1%}.')\n",
    "\n",
    "# Количество нулевых значений в 'days_employed'\n",
    "count_null_days_employed = df['days_employed'].isna().sum()\n",
    "proportion_null_days_employed = (count_null_days_employed / 21525)\n",
    "print(f'Нулевых значений в \\'days_employed\\': {count_null_days_employed}')\n",
    "print(f'Доля нулевых значений в \\'days_employed\\': {proportion_null_days_employed:.1%}.')\n",
    "\n"
   ]
  },
  {
   "cell_type": "markdown",
   "id": "3e948271",
   "metadata": {},
   "source": [
    "В столбцах `'total_income'` и `'days_employed'` обнаружены пропущенные значения.\n",
    "В каждом из них одинаковое количество пропущенных значений.\n",
    "Пропущенные значения составляют **10%** от всех значений в каждом столбце.\n",
    "\n",
    "**`Вероятно пропущенные значения находятся \"в паре\".`**"
   ]
  },
  {
   "cell_type": "code",
   "execution_count": 16,
   "id": "82e77f94",
   "metadata": {
    "scrolled": true
   },
   "outputs": [
    {
     "ename": "NameError",
     "evalue": "name 'NaN' is not defined",
     "output_type": "error",
     "traceback": [
      "\u001b[1;31m---------------------------------------------------------------------------\u001b[0m",
      "\u001b[1;31mNameError\u001b[0m                                 Traceback (most recent call last)",
      "Input \u001b[1;32mIn [16]\u001b[0m, in \u001b[0;36m<cell line: 4>\u001b[1;34m()\u001b[0m\n\u001b[0;32m      1\u001b[0m \u001b[38;5;66;03m#Проверка \"парности\" пропущенных значений.\u001b[39;00m\n\u001b[0;32m      2\u001b[0m \u001b[38;5;66;03m#null_total_income = df[df['total_income'].isna() == True]\u001b[39;00m\n\u001b[0;32m      3\u001b[0m \u001b[38;5;66;03m#display(null_total_income)\u001b[39;00m\n\u001b[1;32m----> 4\u001b[0m null_total_income_and_employed \u001b[38;5;241m=\u001b[39m df\u001b[38;5;241m.\u001b[39mloc[(df[\u001b[38;5;124m'\u001b[39m\u001b[38;5;124mtotal_income\u001b[39m\u001b[38;5;124m'\u001b[39m] \u001b[38;5;241m==\u001b[39m \u001b[43mNaN\u001b[49m)\u001b[38;5;241m&\u001b[39m(df[\u001b[38;5;124m'\u001b[39m\u001b[38;5;124mdays_employed\u001b[39m\u001b[38;5;124m'\u001b[39m] \u001b[38;5;241m==\u001b[39m NaN)]\u001b[38;5;241m.\u001b[39mcount()\n\u001b[0;32m      5\u001b[0m \u001b[38;5;28mprint\u001b[39m(null_total_income_and_employed)\n",
      "\u001b[1;31mNameError\u001b[0m: name 'NaN' is not defined"
     ]
    }
   ],
   "source": [
    "#Проверка \"парности\" пропущенных значений.\n",
    "#null_total_income = df[df['total_income'].isna() == True]\n",
    "#display(null_total_income)\n",
    "null_total_income_and_employed = df.loc[(df['total_income'] == NaN)&(df['days_employed'] == NaN)].count()\n",
    "print(null_total_income_and_employed)"
   ]
  },
  {
   "cell_type": "markdown",
   "id": "60c13af7",
   "metadata": {},
   "source": [
    "Из таблицы видно, что пропущенные значения находятся **`\"в паре\"`**.\n",
    "Можно предположить, что клиент не работает официально (не может предоставить документы о среднем заработке) или является частным предпринимателем. "
   ]
  },
  {
   "cell_type": "markdown",
   "id": "c983a761",
   "metadata": {},
   "source": [
    "В столбце `'total_income'` есть нулевые значения.\n",
    "Т.к. этот столбец отвечает за ежемесячный доход, можем нулевые значения медианным значением."
   ]
  },
  {
   "cell_type": "markdown",
   "id": "0e829816",
   "metadata": {},
   "source": [
    "В двух столбцах есть пропущенные значения. Один из них — days_employed. Пропуски в этом столбце вы обработаете на следующем этапе.\n",
    "\n",
    "* Объясните, почему заполнить пропуски медианным значением — лучшее решение для количественных переменных."
   ]
  },
  {
   "cell_type": "code",
   "execution_count": 6,
   "id": "de336ee0",
   "metadata": {},
   "outputs": [],
   "source": [
    "# Замена нулевых значений в столбце 'total_income' медианным значением\n",
    "# df['total_income'] = df['total_income'].fillna(df['total_income'].median())\n",
    "\n",
    "# df.info() # Убеждаемся что нулевых значений больше нет"
   ]
  },
  {
   "cell_type": "markdown",
   "id": "5148e819",
   "metadata": {},
   "source": [
    "В данных могут встречаться артефакты (аномалии) — значения, которые не отражают действительность и появились по какой-то ошибке. Например, отрицательное количество дней трудового стажа в столбце days_employed. Для реальных данных это нормально. Обработайте значения в столбцах с аномалиями и опишите возможные причины появления таких данных."
   ]
  },
  {
   "cell_type": "markdown",
   "id": "a1d8572c",
   "metadata": {},
   "source": [
    "Замените вещественный тип данных в столбце total_income на целочисленный, например, с помощью метода astype()."
   ]
  },
  {
   "cell_type": "markdown",
   "id": "e2ccd8dc",
   "metadata": {},
   "source": [
    "Если в данных присутствуют строки-дубликаты, удалите их. Также обработайте неявные дубликаты. Например, в столбце education есть одни и те же значения, но записанные по-разному: с использованием заглавных и строчных букв. Приведите их к одному регистру. Проверьте остальные столбцы. После удаления дубликатов сделайте следующее:\n",
    "* поясните, как выбирали метод для поиска и удаления дубликатов в данных;\n",
    "* приведите возможные причины появления дубликатов."
   ]
  },
  {
   "cell_type": "markdown",
   "id": "b1e8d2d4",
   "metadata": {},
   "source": [
    "Создайте два новых датафрейма со столбцами:\n",
    "* education_id и education — в первом;\n",
    "* family_status_id и family_status — во втором.\n",
    "\n",
    "Удалите из исходного датафрейма столбцы education и family_status, оставив только их идентификаторы: education_id и family_status_id. Новые датафреймы — это те самые «словари» (не путайте с одноимённой структурой данных в Python), к которым вы сможете обращаться по идентификатору."
   ]
  },
  {
   "cell_type": "markdown",
   "id": "584dbb29",
   "metadata": {},
   "source": [
    "На основании диапазонов, указанных ниже, создайте столбец total_income_category с категориями:\n",
    "* 0–30000 — 'E';\n",
    "* 30001–50000 — 'D';\n",
    "* 50001–200000 — 'C';\n",
    "* 200001–1000000 — 'B';\n",
    "* 1000001 и выше — 'A'.\n",
    "\n",
    "Например, кредитополучателю с доходом 25000 нужно назначить категорию 'E', а клиенту, получающему 235000, — 'B'."
   ]
  },
  {
   "cell_type": "markdown",
   "id": "0d989030",
   "metadata": {},
   "source": [
    "Создайте функцию, которая на основании данных из столбца `purpose` сформирует новый столбец `purpose_category`, в который войдут следующие категории:\n",
    "* `‘операции с автомобилем’`,\n",
    "* `‘операции с недвижимостью’`,\n",
    "* `‘проведение свадьбы’`,\n",
    "* `‘получение образования’`.\n",
    "\n",
    "Например, если в столбце `purpose` находится подстрока `'на покупку автомобиля'`, то в столбце `purpose_category` должна появиться строка `'операции с автомобилем'`.\n",
    "Вы можете использовать собственную функцию и метод `apply()`. Изучите данные в столбце `purpose` и определите, какие подстроки помогут вам правильно определить категорию."
   ]
  },
  {
   "cell_type": "markdown",
   "id": "19920f0f",
   "metadata": {},
   "source": [
    "# 3. Ответы на вопросы"
   ]
  },
  {
   "cell_type": "markdown",
   "id": "b32ba13d",
   "metadata": {},
   "source": [
    "Ответы на вопросы можно разместить в ячейках тетрадок Jupyter Notebook с типом markdown.\n",
    "* Есть ли зависимость между количеством детей и возвратом кредита в срок?\n",
    "* Есть ли зависимость между семейным положением и возвратом кредита в срок?\n",
    "* Есть ли зависимость между уровнем дохода и возвратом кредита в срок?\n",
    "* Как разные цели кредита влияют на его возврат в срок?\n",
    "\n",
    "Ответы сопроводите интерпретацией — поясните, о чём именно говорит полученный вами результат."
   ]
  },
  {
   "cell_type": "markdown",
   "id": "c78030ed",
   "metadata": {},
   "source": [
    "# 4. Общий вывод"
   ]
  },
  {
   "cell_type": "code",
   "execution_count": null,
   "id": "a8a6d97f",
   "metadata": {},
   "outputs": [],
   "source": []
  }
 ],
 "metadata": {
  "kernelspec": {
   "display_name": "Python 3 (ipykernel)",
   "language": "python",
   "name": "python3"
  },
  "language_info": {
   "codemirror_mode": {
    "name": "ipython",
    "version": 3
   },
   "file_extension": ".py",
   "mimetype": "text/x-python",
   "name": "python",
   "nbconvert_exporter": "python",
   "pygments_lexer": "ipython3",
   "version": "3.9.12"
  },
  "toc": {
   "base_numbering": 1,
   "nav_menu": {},
   "number_sections": false,
   "sideBar": true,
   "skip_h1_title": false,
   "title_cell": "Table of Contents",
   "title_sidebar": "Contents",
   "toc_cell": false,
   "toc_position": {},
   "toc_section_display": true,
   "toc_window_display": false
  }
 },
 "nbformat": 4,
 "nbformat_minor": 5
}
