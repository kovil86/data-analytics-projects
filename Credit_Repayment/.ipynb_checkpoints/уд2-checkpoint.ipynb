{
 "cells": [
  {
   "cell_type": "markdown",
   "id": "82675ba3",
   "metadata": {
    "deletable": false,
    "editable": false,
    "id": "c81daeeb"
   },
   "source": [
    "# Исследование надежности заемщиков\n"
   ]
  },
  {
   "cell_type": "markdown",
   "id": "dcc4a78e",
   "metadata": {
    "deletable": false,
    "editable": false,
    "id": "827c20bf"
   },
   "source": [
    "Во второй части проекта вы выполните шаги 3 и 4. Их вручную проверит ревьюер.\n",
    "Чтобы вам не пришлось писать код заново для шагов 1 и 2, мы добавили авторские решения в ячейки с кодом. \n",
    "\n"
   ]
  },
  {
   "cell_type": "markdown",
   "id": "be62625a",
   "metadata": {
    "deletable": false,
    "editable": false,
    "id": "744d7639"
   },
   "source": [
    "## Откройте таблицу и изучите общую информацию о данных"
   ]
  },
  {
   "cell_type": "markdown",
   "id": "b2821ad1",
   "metadata": {
    "deletable": false,
    "editable": false,
    "id": "e7a14c31"
   },
   "source": [
    "**Задание 1. Импортируйте библиотеку pandas. Считайте данные из csv-файла в датафрейм и сохраните в переменную `data`. Путь к файлу:**\n",
    "\n",
    "`/datasets/data.csv`"
   ]
  },
  {
   "cell_type": "code",
   "execution_count": 30,
   "id": "218b3074",
   "metadata": {
    "deletable": false,
    "id": "7bcf75c9"
   },
   "outputs": [],
   "source": [
    "import pandas as pd\n",
    "\n",
    "try:\n",
    "    data = pd.read_csv('/datasets/data.csv')\n",
    "except:\n",
    "    data = pd.read_csv('https://code.s3.yandex.net/datasets/data.csv')"
   ]
  },
  {
   "cell_type": "markdown",
   "id": "7fc46d97",
   "metadata": {
    "deletable": false,
    "editable": false,
    "id": "b8038fe3"
   },
   "source": [
    "**Задание 2. Выведите первые 20 строчек датафрейма `data` на экран.**"
   ]
  },
  {
   "cell_type": "code",
   "execution_count": 2,
   "id": "47c40c40",
   "metadata": {
    "deletable": false,
    "id": "2a7cab99",
    "outputId": "1a8f3ef2-d323-4ec2-ddf7-89670b5944c4",
    "scrolled": true
   },
   "outputs": [
    {
     "data": {
      "text/html": [
       "<div>\n",
       "<style scoped>\n",
       "    .dataframe tbody tr th:only-of-type {\n",
       "        vertical-align: middle;\n",
       "    }\n",
       "\n",
       "    .dataframe tbody tr th {\n",
       "        vertical-align: top;\n",
       "    }\n",
       "\n",
       "    .dataframe thead th {\n",
       "        text-align: right;\n",
       "    }\n",
       "</style>\n",
       "<table border=\"1\" class=\"dataframe\">\n",
       "  <thead>\n",
       "    <tr style=\"text-align: right;\">\n",
       "      <th></th>\n",
       "      <th>children</th>\n",
       "      <th>days_employed</th>\n",
       "      <th>dob_years</th>\n",
       "      <th>education</th>\n",
       "      <th>education_id</th>\n",
       "      <th>family_status</th>\n",
       "      <th>family_status_id</th>\n",
       "      <th>gender</th>\n",
       "      <th>income_type</th>\n",
       "      <th>debt</th>\n",
       "      <th>total_income</th>\n",
       "      <th>purpose</th>\n",
       "    </tr>\n",
       "  </thead>\n",
       "  <tbody>\n",
       "    <tr>\n",
       "      <th>0</th>\n",
       "      <td>1</td>\n",
       "      <td>-8437.673028</td>\n",
       "      <td>42</td>\n",
       "      <td>высшее</td>\n",
       "      <td>0</td>\n",
       "      <td>женат / замужем</td>\n",
       "      <td>0</td>\n",
       "      <td>F</td>\n",
       "      <td>сотрудник</td>\n",
       "      <td>0</td>\n",
       "      <td>253875.639453</td>\n",
       "      <td>покупка жилья</td>\n",
       "    </tr>\n",
       "    <tr>\n",
       "      <th>1</th>\n",
       "      <td>1</td>\n",
       "      <td>-4024.803754</td>\n",
       "      <td>36</td>\n",
       "      <td>среднее</td>\n",
       "      <td>1</td>\n",
       "      <td>женат / замужем</td>\n",
       "      <td>0</td>\n",
       "      <td>F</td>\n",
       "      <td>сотрудник</td>\n",
       "      <td>0</td>\n",
       "      <td>112080.014102</td>\n",
       "      <td>приобретение автомобиля</td>\n",
       "    </tr>\n",
       "    <tr>\n",
       "      <th>2</th>\n",
       "      <td>0</td>\n",
       "      <td>-5623.422610</td>\n",
       "      <td>33</td>\n",
       "      <td>Среднее</td>\n",
       "      <td>1</td>\n",
       "      <td>женат / замужем</td>\n",
       "      <td>0</td>\n",
       "      <td>M</td>\n",
       "      <td>сотрудник</td>\n",
       "      <td>0</td>\n",
       "      <td>145885.952297</td>\n",
       "      <td>покупка жилья</td>\n",
       "    </tr>\n",
       "    <tr>\n",
       "      <th>3</th>\n",
       "      <td>3</td>\n",
       "      <td>-4124.747207</td>\n",
       "      <td>32</td>\n",
       "      <td>среднее</td>\n",
       "      <td>1</td>\n",
       "      <td>женат / замужем</td>\n",
       "      <td>0</td>\n",
       "      <td>M</td>\n",
       "      <td>сотрудник</td>\n",
       "      <td>0</td>\n",
       "      <td>267628.550329</td>\n",
       "      <td>дополнительное образование</td>\n",
       "    </tr>\n",
       "    <tr>\n",
       "      <th>4</th>\n",
       "      <td>0</td>\n",
       "      <td>340266.072047</td>\n",
       "      <td>53</td>\n",
       "      <td>среднее</td>\n",
       "      <td>1</td>\n",
       "      <td>гражданский брак</td>\n",
       "      <td>1</td>\n",
       "      <td>F</td>\n",
       "      <td>пенсионер</td>\n",
       "      <td>0</td>\n",
       "      <td>158616.077870</td>\n",
       "      <td>сыграть свадьбу</td>\n",
       "    </tr>\n",
       "    <tr>\n",
       "      <th>5</th>\n",
       "      <td>0</td>\n",
       "      <td>-926.185831</td>\n",
       "      <td>27</td>\n",
       "      <td>высшее</td>\n",
       "      <td>0</td>\n",
       "      <td>гражданский брак</td>\n",
       "      <td>1</td>\n",
       "      <td>M</td>\n",
       "      <td>компаньон</td>\n",
       "      <td>0</td>\n",
       "      <td>255763.565419</td>\n",
       "      <td>покупка жилья</td>\n",
       "    </tr>\n",
       "    <tr>\n",
       "      <th>6</th>\n",
       "      <td>0</td>\n",
       "      <td>-2879.202052</td>\n",
       "      <td>43</td>\n",
       "      <td>высшее</td>\n",
       "      <td>0</td>\n",
       "      <td>женат / замужем</td>\n",
       "      <td>0</td>\n",
       "      <td>F</td>\n",
       "      <td>компаньон</td>\n",
       "      <td>0</td>\n",
       "      <td>240525.971920</td>\n",
       "      <td>операции с жильем</td>\n",
       "    </tr>\n",
       "    <tr>\n",
       "      <th>7</th>\n",
       "      <td>0</td>\n",
       "      <td>-152.779569</td>\n",
       "      <td>50</td>\n",
       "      <td>СРЕДНЕЕ</td>\n",
       "      <td>1</td>\n",
       "      <td>женат / замужем</td>\n",
       "      <td>0</td>\n",
       "      <td>M</td>\n",
       "      <td>сотрудник</td>\n",
       "      <td>0</td>\n",
       "      <td>135823.934197</td>\n",
       "      <td>образование</td>\n",
       "    </tr>\n",
       "    <tr>\n",
       "      <th>8</th>\n",
       "      <td>2</td>\n",
       "      <td>-6929.865299</td>\n",
       "      <td>35</td>\n",
       "      <td>ВЫСШЕЕ</td>\n",
       "      <td>0</td>\n",
       "      <td>гражданский брак</td>\n",
       "      <td>1</td>\n",
       "      <td>F</td>\n",
       "      <td>сотрудник</td>\n",
       "      <td>0</td>\n",
       "      <td>95856.832424</td>\n",
       "      <td>на проведение свадьбы</td>\n",
       "    </tr>\n",
       "    <tr>\n",
       "      <th>9</th>\n",
       "      <td>0</td>\n",
       "      <td>-2188.756445</td>\n",
       "      <td>41</td>\n",
       "      <td>среднее</td>\n",
       "      <td>1</td>\n",
       "      <td>женат / замужем</td>\n",
       "      <td>0</td>\n",
       "      <td>M</td>\n",
       "      <td>сотрудник</td>\n",
       "      <td>0</td>\n",
       "      <td>144425.938277</td>\n",
       "      <td>покупка жилья для семьи</td>\n",
       "    </tr>\n",
       "    <tr>\n",
       "      <th>10</th>\n",
       "      <td>2</td>\n",
       "      <td>-4171.483647</td>\n",
       "      <td>36</td>\n",
       "      <td>высшее</td>\n",
       "      <td>0</td>\n",
       "      <td>женат / замужем</td>\n",
       "      <td>0</td>\n",
       "      <td>M</td>\n",
       "      <td>компаньон</td>\n",
       "      <td>0</td>\n",
       "      <td>113943.491460</td>\n",
       "      <td>покупка недвижимости</td>\n",
       "    </tr>\n",
       "    <tr>\n",
       "      <th>11</th>\n",
       "      <td>0</td>\n",
       "      <td>-792.701887</td>\n",
       "      <td>40</td>\n",
       "      <td>среднее</td>\n",
       "      <td>1</td>\n",
       "      <td>женат / замужем</td>\n",
       "      <td>0</td>\n",
       "      <td>F</td>\n",
       "      <td>сотрудник</td>\n",
       "      <td>0</td>\n",
       "      <td>77069.234271</td>\n",
       "      <td>покупка коммерческой недвижимости</td>\n",
       "    </tr>\n",
       "    <tr>\n",
       "      <th>12</th>\n",
       "      <td>0</td>\n",
       "      <td>NaN</td>\n",
       "      <td>65</td>\n",
       "      <td>среднее</td>\n",
       "      <td>1</td>\n",
       "      <td>гражданский брак</td>\n",
       "      <td>1</td>\n",
       "      <td>M</td>\n",
       "      <td>пенсионер</td>\n",
       "      <td>0</td>\n",
       "      <td>NaN</td>\n",
       "      <td>сыграть свадьбу</td>\n",
       "    </tr>\n",
       "    <tr>\n",
       "      <th>13</th>\n",
       "      <td>0</td>\n",
       "      <td>-1846.641941</td>\n",
       "      <td>54</td>\n",
       "      <td>неоконченное высшее</td>\n",
       "      <td>2</td>\n",
       "      <td>женат / замужем</td>\n",
       "      <td>0</td>\n",
       "      <td>F</td>\n",
       "      <td>сотрудник</td>\n",
       "      <td>0</td>\n",
       "      <td>130458.228857</td>\n",
       "      <td>приобретение автомобиля</td>\n",
       "    </tr>\n",
       "    <tr>\n",
       "      <th>14</th>\n",
       "      <td>0</td>\n",
       "      <td>-1844.956182</td>\n",
       "      <td>56</td>\n",
       "      <td>высшее</td>\n",
       "      <td>0</td>\n",
       "      <td>гражданский брак</td>\n",
       "      <td>1</td>\n",
       "      <td>F</td>\n",
       "      <td>компаньон</td>\n",
       "      <td>1</td>\n",
       "      <td>165127.911772</td>\n",
       "      <td>покупка жилой недвижимости</td>\n",
       "    </tr>\n",
       "    <tr>\n",
       "      <th>15</th>\n",
       "      <td>1</td>\n",
       "      <td>-972.364419</td>\n",
       "      <td>26</td>\n",
       "      <td>среднее</td>\n",
       "      <td>1</td>\n",
       "      <td>женат / замужем</td>\n",
       "      <td>0</td>\n",
       "      <td>F</td>\n",
       "      <td>сотрудник</td>\n",
       "      <td>0</td>\n",
       "      <td>116820.904450</td>\n",
       "      <td>строительство собственной недвижимости</td>\n",
       "    </tr>\n",
       "    <tr>\n",
       "      <th>16</th>\n",
       "      <td>0</td>\n",
       "      <td>-1719.934226</td>\n",
       "      <td>35</td>\n",
       "      <td>среднее</td>\n",
       "      <td>1</td>\n",
       "      <td>женат / замужем</td>\n",
       "      <td>0</td>\n",
       "      <td>F</td>\n",
       "      <td>сотрудник</td>\n",
       "      <td>0</td>\n",
       "      <td>289202.704229</td>\n",
       "      <td>недвижимость</td>\n",
       "    </tr>\n",
       "    <tr>\n",
       "      <th>17</th>\n",
       "      <td>0</td>\n",
       "      <td>-2369.999720</td>\n",
       "      <td>33</td>\n",
       "      <td>высшее</td>\n",
       "      <td>0</td>\n",
       "      <td>гражданский брак</td>\n",
       "      <td>1</td>\n",
       "      <td>M</td>\n",
       "      <td>сотрудник</td>\n",
       "      <td>0</td>\n",
       "      <td>90410.586745</td>\n",
       "      <td>строительство недвижимости</td>\n",
       "    </tr>\n",
       "    <tr>\n",
       "      <th>18</th>\n",
       "      <td>0</td>\n",
       "      <td>400281.136913</td>\n",
       "      <td>53</td>\n",
       "      <td>среднее</td>\n",
       "      <td>1</td>\n",
       "      <td>вдовец / вдова</td>\n",
       "      <td>2</td>\n",
       "      <td>F</td>\n",
       "      <td>пенсионер</td>\n",
       "      <td>0</td>\n",
       "      <td>56823.777243</td>\n",
       "      <td>на покупку подержанного автомобиля</td>\n",
       "    </tr>\n",
       "    <tr>\n",
       "      <th>19</th>\n",
       "      <td>0</td>\n",
       "      <td>-10038.818549</td>\n",
       "      <td>48</td>\n",
       "      <td>СРЕДНЕЕ</td>\n",
       "      <td>1</td>\n",
       "      <td>в разводе</td>\n",
       "      <td>3</td>\n",
       "      <td>F</td>\n",
       "      <td>сотрудник</td>\n",
       "      <td>0</td>\n",
       "      <td>242831.107982</td>\n",
       "      <td>на покупку своего автомобиля</td>\n",
       "    </tr>\n",
       "  </tbody>\n",
       "</table>\n",
       "</div>"
      ],
      "text/plain": [
       "    children  days_employed  dob_years            education  education_id  \\\n",
       "0          1   -8437.673028         42               высшее             0   \n",
       "1          1   -4024.803754         36              среднее             1   \n",
       "2          0   -5623.422610         33              Среднее             1   \n",
       "3          3   -4124.747207         32              среднее             1   \n",
       "4          0  340266.072047         53              среднее             1   \n",
       "5          0    -926.185831         27               высшее             0   \n",
       "6          0   -2879.202052         43               высшее             0   \n",
       "7          0    -152.779569         50              СРЕДНЕЕ             1   \n",
       "8          2   -6929.865299         35               ВЫСШЕЕ             0   \n",
       "9          0   -2188.756445         41              среднее             1   \n",
       "10         2   -4171.483647         36               высшее             0   \n",
       "11         0    -792.701887         40              среднее             1   \n",
       "12         0            NaN         65              среднее             1   \n",
       "13         0   -1846.641941         54  неоконченное высшее             2   \n",
       "14         0   -1844.956182         56               высшее             0   \n",
       "15         1    -972.364419         26              среднее             1   \n",
       "16         0   -1719.934226         35              среднее             1   \n",
       "17         0   -2369.999720         33               высшее             0   \n",
       "18         0  400281.136913         53              среднее             1   \n",
       "19         0  -10038.818549         48              СРЕДНЕЕ             1   \n",
       "\n",
       "       family_status  family_status_id gender income_type  debt  \\\n",
       "0    женат / замужем                 0      F   сотрудник     0   \n",
       "1    женат / замужем                 0      F   сотрудник     0   \n",
       "2    женат / замужем                 0      M   сотрудник     0   \n",
       "3    женат / замужем                 0      M   сотрудник     0   \n",
       "4   гражданский брак                 1      F   пенсионер     0   \n",
       "5   гражданский брак                 1      M   компаньон     0   \n",
       "6    женат / замужем                 0      F   компаньон     0   \n",
       "7    женат / замужем                 0      M   сотрудник     0   \n",
       "8   гражданский брак                 1      F   сотрудник     0   \n",
       "9    женат / замужем                 0      M   сотрудник     0   \n",
       "10   женат / замужем                 0      M   компаньон     0   \n",
       "11   женат / замужем                 0      F   сотрудник     0   \n",
       "12  гражданский брак                 1      M   пенсионер     0   \n",
       "13   женат / замужем                 0      F   сотрудник     0   \n",
       "14  гражданский брак                 1      F   компаньон     1   \n",
       "15   женат / замужем                 0      F   сотрудник     0   \n",
       "16   женат / замужем                 0      F   сотрудник     0   \n",
       "17  гражданский брак                 1      M   сотрудник     0   \n",
       "18    вдовец / вдова                 2      F   пенсионер     0   \n",
       "19         в разводе                 3      F   сотрудник     0   \n",
       "\n",
       "     total_income                                 purpose  \n",
       "0   253875.639453                           покупка жилья  \n",
       "1   112080.014102                 приобретение автомобиля  \n",
       "2   145885.952297                           покупка жилья  \n",
       "3   267628.550329              дополнительное образование  \n",
       "4   158616.077870                         сыграть свадьбу  \n",
       "5   255763.565419                           покупка жилья  \n",
       "6   240525.971920                       операции с жильем  \n",
       "7   135823.934197                             образование  \n",
       "8    95856.832424                   на проведение свадьбы  \n",
       "9   144425.938277                 покупка жилья для семьи  \n",
       "10  113943.491460                    покупка недвижимости  \n",
       "11   77069.234271       покупка коммерческой недвижимости  \n",
       "12            NaN                         сыграть свадьбу  \n",
       "13  130458.228857                 приобретение автомобиля  \n",
       "14  165127.911772              покупка жилой недвижимости  \n",
       "15  116820.904450  строительство собственной недвижимости  \n",
       "16  289202.704229                            недвижимость  \n",
       "17   90410.586745              строительство недвижимости  \n",
       "18   56823.777243      на покупку подержанного автомобиля  \n",
       "19  242831.107982            на покупку своего автомобиля  "
      ]
     },
     "execution_count": 2,
     "metadata": {},
     "output_type": "execute_result"
    }
   ],
   "source": [
    "data.head(20)"
   ]
  },
  {
   "cell_type": "markdown",
   "id": "66127195",
   "metadata": {
    "deletable": false,
    "editable": false,
    "id": "1c12e233"
   },
   "source": [
    "**Задание 3. Выведите основную информацию о датафрейме с помощью метода `info()`.**"
   ]
  },
  {
   "cell_type": "code",
   "execution_count": 3,
   "id": "3fa4fabd",
   "metadata": {
    "deletable": false,
    "id": "2b757bca",
    "outputId": "15376089-8dad-46c9-b520-c05248d43158"
   },
   "outputs": [
    {
     "name": "stdout",
     "output_type": "stream",
     "text": [
      "<class 'pandas.core.frame.DataFrame'>\n",
      "RangeIndex: 21525 entries, 0 to 21524\n",
      "Data columns (total 12 columns):\n",
      " #   Column            Non-Null Count  Dtype  \n",
      "---  ------            --------------  -----  \n",
      " 0   children          21525 non-null  int64  \n",
      " 1   days_employed     19351 non-null  float64\n",
      " 2   dob_years         21525 non-null  int64  \n",
      " 3   education         21525 non-null  object \n",
      " 4   education_id      21525 non-null  int64  \n",
      " 5   family_status     21525 non-null  object \n",
      " 6   family_status_id  21525 non-null  int64  \n",
      " 7   gender            21525 non-null  object \n",
      " 8   income_type       21525 non-null  object \n",
      " 9   debt              21525 non-null  int64  \n",
      " 10  total_income      19351 non-null  float64\n",
      " 11  purpose           21525 non-null  object \n",
      "dtypes: float64(2), int64(5), object(5)\n",
      "memory usage: 2.0+ MB\n"
     ]
    }
   ],
   "source": [
    "data.info()"
   ]
  },
  {
   "cell_type": "markdown",
   "id": "f208c152",
   "metadata": {
    "deletable": false,
    "editable": false,
    "id": "333ec665"
   },
   "source": [
    "## Предобработка данных"
   ]
  },
  {
   "cell_type": "markdown",
   "id": "a6658fe4",
   "metadata": {
    "deletable": false,
    "editable": false,
    "id": "02d92d53"
   },
   "source": [
    "### Удаление пропусков"
   ]
  },
  {
   "cell_type": "markdown",
   "id": "2594d7f4",
   "metadata": {
    "deletable": false,
    "editable": false,
    "id": "cd84967c"
   },
   "source": [
    "**Задание 4. Выведите количество пропущенных значений для каждого столбца. Используйте комбинацию двух методов.**"
   ]
  },
  {
   "cell_type": "code",
   "execution_count": 4,
   "id": "2e072629",
   "metadata": {
    "deletable": false,
    "id": "7f9b2309",
    "outputId": "81f4d817-781c-465c-ed15-91ce4446810d"
   },
   "outputs": [
    {
     "data": {
      "text/plain": [
       "children               0\n",
       "days_employed       2174\n",
       "dob_years              0\n",
       "education              0\n",
       "education_id           0\n",
       "family_status          0\n",
       "family_status_id       0\n",
       "gender                 0\n",
       "income_type            0\n",
       "debt                   0\n",
       "total_income        2174\n",
       "purpose                0\n",
       "dtype: int64"
      ]
     },
     "execution_count": 4,
     "metadata": {},
     "output_type": "execute_result"
    }
   ],
   "source": [
    "data.isna().sum()"
   ]
  },
  {
   "cell_type": "markdown",
   "id": "ee290718",
   "metadata": {
    "deletable": false,
    "editable": false,
    "id": "db86e27b"
   },
   "source": [
    "**Задание 5. В двух столбцах есть пропущенные значения. Один из них — `days_employed`. Пропуски в этом столбце вы обработаете на следующем этапе. Другой столбец с пропущенными значениями — `total_income` — хранит данные о доходах. На сумму дохода сильнее всего влияет тип занятости, поэтому заполнить пропуски в этом столбце нужно медианным значением по каждому типу из столбца `income_type`. Например, у человека с типом занятости `сотрудник` пропуск в столбце `total_income` должен быть заполнен медианным доходом среди всех записей с тем же типом.**"
   ]
  },
  {
   "cell_type": "code",
   "execution_count": 38,
   "id": "b027381e",
   "metadata": {
    "deletable": false,
    "id": "42006a93"
   },
   "outputs": [],
   "source": [
    "for t in data['income_type'].unique():\n",
    "    data.loc[(data['income_type'] == t) & (data['total_income'].isna()), 'total_income'] = \\\n",
    "    data.loc[(data['income_type'] == t), 'total_income'].median()"
   ]
  },
  {
   "cell_type": "markdown",
   "id": "45ea95b2",
   "metadata": {
    "deletable": false,
    "editable": false,
    "id": "89da5ece"
   },
   "source": [
    "### Обработка аномальных значений"
   ]
  },
  {
   "cell_type": "markdown",
   "id": "25e124af",
   "metadata": {
    "deletable": false,
    "editable": false,
    "id": "57964554"
   },
   "source": [
    "**Задание 6. В данных могут встречаться артефакты (аномалии) — значения, которые не отражают действительность и появились по какой-то ошибке. таким артефактом будет отрицательное количество дней трудового стажа в столбце `days_employed`. Для реальных данных это нормально. Обработайте значения в этом столбце: замените все отрицательные значения положительными с помощью метода `abs()`.**"
   ]
  },
  {
   "cell_type": "code",
   "execution_count": 39,
   "id": "e8835fa7",
   "metadata": {
    "deletable": false,
    "id": "f6f055bf"
   },
   "outputs": [],
   "source": [
    "data['days_employed'] = data['days_employed'].abs()"
   ]
  },
  {
   "cell_type": "markdown",
   "id": "9e4f9b2c",
   "metadata": {
    "deletable": false,
    "editable": false,
    "id": "6107dd2f"
   },
   "source": [
    "**Задание 7. Для каждого типа занятости выведите медианное значение трудового стажа `days_employed` в днях.**"
   ]
  },
  {
   "cell_type": "code",
   "execution_count": 40,
   "id": "f01f8972",
   "metadata": {
    "deletable": false,
    "id": "85a5faf6",
    "outputId": "801ef80e-522b-4668-f34e-565af7432bcf"
   },
   "outputs": [
    {
     "data": {
      "text/plain": [
       "income_type\n",
       "безработный        366413.652744\n",
       "в декрете            3296.759962\n",
       "госслужащий          2689.368353\n",
       "компаньон            1547.382223\n",
       "пенсионер          365213.306266\n",
       "предприниматель       520.848083\n",
       "сотрудник            1574.202821\n",
       "студент               578.751554\n",
       "Name: days_employed, dtype: float64"
      ]
     },
     "execution_count": 40,
     "metadata": {},
     "output_type": "execute_result"
    }
   ],
   "source": [
    "data.groupby('income_type')['days_employed'].agg('median')"
   ]
  },
  {
   "cell_type": "markdown",
   "id": "a395d3f1",
   "metadata": {
    "deletable": false,
    "editable": false,
    "id": "38d1a030"
   },
   "source": [
    "У двух типов (безработные и пенсионеры) получатся аномально большие значения. Исправить такие значения сложно, поэтому оставьте их как есть. Тем более этот столбец не понадобится вам для исследования."
   ]
  },
  {
   "cell_type": "markdown",
   "id": "e2ad10a4",
   "metadata": {
    "deletable": false,
    "editable": false,
    "id": "d8a9f147"
   },
   "source": [
    "**Задание 8. Выведите перечень уникальных значений столбца `children`.**"
   ]
  },
  {
   "cell_type": "code",
   "execution_count": 8,
   "id": "ce82b61e",
   "metadata": {
    "deletable": false,
    "id": "ef5056eb",
    "outputId": "6975b15c-7f95-4697-d16d-a0c79b657b03"
   },
   "outputs": [
    {
     "data": {
      "text/plain": [
       "array([ 1,  0,  3,  2, -1,  4, 20,  5])"
      ]
     },
     "execution_count": 8,
     "metadata": {},
     "output_type": "execute_result"
    }
   ],
   "source": [
    "data['children'].unique()"
   ]
  },
  {
   "cell_type": "markdown",
   "id": "6d0055eb",
   "metadata": {
    "deletable": false,
    "editable": false,
    "id": "40b9ebf2"
   },
   "source": [
    "**Задание 9. В столбце `children` есть два аномальных значения. Удалите строки, в которых встречаются такие аномальные значения из датафрейма `data`.**"
   ]
  },
  {
   "cell_type": "code",
   "execution_count": 41,
   "id": "fe9a0edb",
   "metadata": {
    "deletable": false,
    "id": "3ff9801d"
   },
   "outputs": [],
   "source": [
    "data = data[(data['children'] != -1) & (data['children'] != 20)]"
   ]
  },
  {
   "cell_type": "markdown",
   "id": "00eae571",
   "metadata": {
    "deletable": false,
    "editable": false,
    "id": "bbc4d0ce"
   },
   "source": [
    "**Задание 10. Ещё раз выведите перечень уникальных значений столбца `children`, чтобы убедиться, что артефакты удалены.**"
   ]
  },
  {
   "cell_type": "code",
   "execution_count": 42,
   "id": "539b2b5f",
   "metadata": {
    "deletable": false,
    "id": "ad4fa8b7",
    "outputId": "b2097101-d49d-44d9-901b-32a65c9463d1"
   },
   "outputs": [
    {
     "data": {
      "text/plain": [
       "array([1, 0, 3, 2, 4, 5])"
      ]
     },
     "execution_count": 42,
     "metadata": {},
     "output_type": "execute_result"
    }
   ],
   "source": [
    "data['children'].unique()"
   ]
  },
  {
   "cell_type": "markdown",
   "id": "92bd9205",
   "metadata": {
    "deletable": false,
    "editable": false,
    "id": "75440b63"
   },
   "source": [
    "### Удаление пропусков (продолжение)"
   ]
  },
  {
   "cell_type": "markdown",
   "id": "ff8074a1",
   "metadata": {
    "deletable": false,
    "editable": false,
    "id": "f4ea573f"
   },
   "source": [
    "**Задание 11. Заполните пропуски в столбце `days_employed` медианными значениями по каждого типа занятости `income_type`.**"
   ]
  },
  {
   "cell_type": "code",
   "execution_count": 43,
   "id": "bc70789a",
   "metadata": {
    "deletable": false,
    "id": "af6b1a7e"
   },
   "outputs": [
    {
     "name": "stderr",
     "output_type": "stream",
     "text": [
      "/opt/conda/lib/python3.9/site-packages/pandas/core/indexing.py:1720: SettingWithCopyWarning: \n",
      "A value is trying to be set on a copy of a slice from a DataFrame.\n",
      "Try using .loc[row_indexer,col_indexer] = value instead\n",
      "\n",
      "See the caveats in the documentation: https://pandas.pydata.org/pandas-docs/stable/user_guide/indexing.html#returning-a-view-versus-a-copy\n",
      "  self._setitem_single_column(loc, value, pi)\n",
      "/opt/conda/lib/python3.9/site-packages/pandas/core/indexing.py:1720: SettingWithCopyWarning: \n",
      "A value is trying to be set on a copy of a slice from a DataFrame.\n",
      "Try using .loc[row_indexer,col_indexer] = value instead\n",
      "\n",
      "See the caveats in the documentation: https://pandas.pydata.org/pandas-docs/stable/user_guide/indexing.html#returning-a-view-versus-a-copy\n",
      "  self._setitem_single_column(loc, value, pi)\n",
      "/opt/conda/lib/python3.9/site-packages/pandas/core/indexing.py:1720: SettingWithCopyWarning: \n",
      "A value is trying to be set on a copy of a slice from a DataFrame.\n",
      "Try using .loc[row_indexer,col_indexer] = value instead\n",
      "\n",
      "See the caveats in the documentation: https://pandas.pydata.org/pandas-docs/stable/user_guide/indexing.html#returning-a-view-versus-a-copy\n",
      "  self._setitem_single_column(loc, value, pi)\n",
      "/opt/conda/lib/python3.9/site-packages/pandas/core/indexing.py:1720: SettingWithCopyWarning: \n",
      "A value is trying to be set on a copy of a slice from a DataFrame.\n",
      "Try using .loc[row_indexer,col_indexer] = value instead\n",
      "\n",
      "See the caveats in the documentation: https://pandas.pydata.org/pandas-docs/stable/user_guide/indexing.html#returning-a-view-versus-a-copy\n",
      "  self._setitem_single_column(loc, value, pi)\n",
      "/opt/conda/lib/python3.9/site-packages/pandas/core/indexing.py:1720: SettingWithCopyWarning: \n",
      "A value is trying to be set on a copy of a slice from a DataFrame.\n",
      "Try using .loc[row_indexer,col_indexer] = value instead\n",
      "\n",
      "See the caveats in the documentation: https://pandas.pydata.org/pandas-docs/stable/user_guide/indexing.html#returning-a-view-versus-a-copy\n",
      "  self._setitem_single_column(loc, value, pi)\n",
      "/opt/conda/lib/python3.9/site-packages/pandas/core/indexing.py:1720: SettingWithCopyWarning: \n",
      "A value is trying to be set on a copy of a slice from a DataFrame.\n",
      "Try using .loc[row_indexer,col_indexer] = value instead\n",
      "\n",
      "See the caveats in the documentation: https://pandas.pydata.org/pandas-docs/stable/user_guide/indexing.html#returning-a-view-versus-a-copy\n",
      "  self._setitem_single_column(loc, value, pi)\n",
      "/opt/conda/lib/python3.9/site-packages/pandas/core/indexing.py:1720: SettingWithCopyWarning: \n",
      "A value is trying to be set on a copy of a slice from a DataFrame.\n",
      "Try using .loc[row_indexer,col_indexer] = value instead\n",
      "\n",
      "See the caveats in the documentation: https://pandas.pydata.org/pandas-docs/stable/user_guide/indexing.html#returning-a-view-versus-a-copy\n",
      "  self._setitem_single_column(loc, value, pi)\n",
      "/opt/conda/lib/python3.9/site-packages/pandas/core/indexing.py:1720: SettingWithCopyWarning: \n",
      "A value is trying to be set on a copy of a slice from a DataFrame.\n",
      "Try using .loc[row_indexer,col_indexer] = value instead\n",
      "\n",
      "See the caveats in the documentation: https://pandas.pydata.org/pandas-docs/stable/user_guide/indexing.html#returning-a-view-versus-a-copy\n",
      "  self._setitem_single_column(loc, value, pi)\n"
     ]
    }
   ],
   "source": [
    "for t in data['income_type'].unique():\n",
    "    data.loc[(data['income_type'] == t) & (data['days_employed'].isna()), 'days_employed'] = \\\n",
    "    data.loc[(data['income_type'] == t), 'days_employed'].median()"
   ]
  },
  {
   "cell_type": "markdown",
   "id": "a3987a20",
   "metadata": {
    "deletable": false,
    "editable": false,
    "id": "2753f40d"
   },
   "source": [
    "**Задание 12. Убедитесь, что все пропуски заполнены. Проверьте себя и ещё раз выведите количество пропущенных значений для каждого столбца с помощью двух методов.**"
   ]
  },
  {
   "cell_type": "code",
   "execution_count": 44,
   "id": "e6197fa3",
   "metadata": {
    "deletable": false,
    "id": "55f78bc2",
    "outputId": "8da1e4e1-358e-4e87-98c9-f261bce0a7b2"
   },
   "outputs": [
    {
     "data": {
      "text/plain": [
       "children            0\n",
       "days_employed       0\n",
       "dob_years           0\n",
       "education           0\n",
       "education_id        0\n",
       "family_status       0\n",
       "family_status_id    0\n",
       "gender              0\n",
       "income_type         0\n",
       "debt                0\n",
       "total_income        0\n",
       "purpose             0\n",
       "purpose_group       0\n",
       "dtype: int64"
      ]
     },
     "execution_count": 44,
     "metadata": {},
     "output_type": "execute_result"
    }
   ],
   "source": [
    "data.isna().sum()"
   ]
  },
  {
   "cell_type": "markdown",
   "id": "78d01455",
   "metadata": {
    "deletable": false,
    "editable": false,
    "id": "ddc81e43"
   },
   "source": [
    "### Изменение типов данных"
   ]
  },
  {
   "cell_type": "markdown",
   "id": "0a5ed777",
   "metadata": {
    "deletable": false,
    "editable": false,
    "id": "42d19d24"
   },
   "source": [
    "**Задание 13. Замените вещественный тип данных в столбце `total_income` на целочисленный с помощью метода `astype()`.**"
   ]
  },
  {
   "cell_type": "code",
   "execution_count": 13,
   "id": "0efb9869",
   "metadata": {
    "deletable": false,
    "id": "920b65ad"
   },
   "outputs": [],
   "source": [
    "data['total_income'] = data['total_income'].astype(int)"
   ]
  },
  {
   "cell_type": "markdown",
   "id": "ec17d243",
   "metadata": {
    "deletable": false,
    "editable": false,
    "id": "80c420ba"
   },
   "source": [
    "### Обработка дубликатов"
   ]
  },
  {
   "cell_type": "markdown",
   "id": "b66fd3f3",
   "metadata": {
    "deletable": false,
    "editable": false
   },
   "source": [
    "**Задание 14. Обработайте неявные дубликаты в столбце `education`. В этом столбце есть одни и те же значения, но записанные по-разному: с использованием заглавных и строчных букв. Приведите их к нижнему регистру. Проверьте остальные столбцы.**"
   ]
  },
  {
   "cell_type": "code",
   "execution_count": 14,
   "id": "9c9673d4",
   "metadata": {
    "deletable": false
   },
   "outputs": [],
   "source": [
    "data['education'] = data['education'].str.lower()"
   ]
  },
  {
   "cell_type": "markdown",
   "id": "3efb16e9",
   "metadata": {
    "deletable": false,
    "editable": false,
    "id": "dc587695"
   },
   "source": [
    "**Задание 15. Выведите на экран количество строк-дубликатов в данных. Если такие строки присутствуют, удалите их.**"
   ]
  },
  {
   "cell_type": "code",
   "execution_count": 15,
   "id": "779c3b60",
   "metadata": {
    "deletable": false,
    "id": "3ee445e4",
    "outputId": "9684deba-1934-42d1-99e1-cda61740f822"
   },
   "outputs": [
    {
     "data": {
      "text/plain": [
       "71"
      ]
     },
     "execution_count": 15,
     "metadata": {},
     "output_type": "execute_result"
    }
   ],
   "source": [
    "data.duplicated().sum()"
   ]
  },
  {
   "cell_type": "code",
   "execution_count": 16,
   "id": "2830a7ee",
   "metadata": {
    "deletable": false,
    "id": "8575fe05"
   },
   "outputs": [],
   "source": [
    "data = data.drop_duplicates()"
   ]
  },
  {
   "cell_type": "markdown",
   "id": "5ca748db",
   "metadata": {
    "deletable": false,
    "editable": false,
    "id": "9904cf55"
   },
   "source": [
    "### Категоризация данных"
   ]
  },
  {
   "cell_type": "markdown",
   "id": "c1cb0005",
   "metadata": {
    "deletable": false,
    "editable": false,
    "id": "72fcc8a2"
   },
   "source": [
    "**Задание 16. На основании диапазонов, указанных ниже, создайте в датафрейме `data` столбец `total_income_category` с категориями:**\n",
    "\n",
    "- 0–30000 — `'E'`;\n",
    "- 30001–50000 — `'D'`;\n",
    "- 50001–200000 — `'C'`;\n",
    "- 200001–1000000 — `'B'`;\n",
    "- 1000001 и выше — `'A'`.\n",
    "\n",
    "\n",
    "**Например, кредитополучателю с доходом 25000 нужно назначить категорию `'E'`, а клиенту, получающему 235000, — `'B'`. Используйте собственную функцию с именем `categorize_income()` и метод `apply()`.**"
   ]
  },
  {
   "cell_type": "code",
   "execution_count": 17,
   "id": "ca0b18f9",
   "metadata": {
    "deletable": false,
    "id": "e1771346"
   },
   "outputs": [],
   "source": [
    "def categorize_income(income):\n",
    "    try:\n",
    "        if 0 <= income <= 30000:\n",
    "            return 'E'\n",
    "        elif 30001 <= income <= 50000:\n",
    "            return 'D'\n",
    "        elif 50001 <= income <= 200000:\n",
    "            return 'C'\n",
    "        elif 200001 <= income <= 1000000:\n",
    "            return 'B'\n",
    "        elif income >= 1000001:\n",
    "            return 'A'\n",
    "    except:\n",
    "        pass"
   ]
  },
  {
   "cell_type": "code",
   "execution_count": 18,
   "id": "09a93d3b",
   "metadata": {
    "deletable": false,
    "id": "d5f3586d"
   },
   "outputs": [],
   "source": [
    "data['total_income_category'] = data['total_income'].apply(categorize_income)"
   ]
  },
  {
   "cell_type": "markdown",
   "id": "8bd3135d",
   "metadata": {
    "deletable": false,
    "editable": false,
    "id": "dde49b5c"
   },
   "source": [
    "**Задание 17. Выведите на экран перечень уникальных целей взятия кредита из столбца `purpose`.**"
   ]
  },
  {
   "cell_type": "code",
   "execution_count": 19,
   "id": "c03c3a7c",
   "metadata": {
    "deletable": false,
    "id": "f67ce9b3",
    "outputId": "673c12d9-7d7e-4ae0-9812-c622c89dd244"
   },
   "outputs": [
    {
     "data": {
      "text/plain": [
       "array(['покупка жилья', 'приобретение автомобиля',\n",
       "       'дополнительное образование', 'сыграть свадьбу',\n",
       "       'операции с жильем', 'образование', 'на проведение свадьбы',\n",
       "       'покупка жилья для семьи', 'покупка недвижимости',\n",
       "       'покупка коммерческой недвижимости', 'покупка жилой недвижимости',\n",
       "       'строительство собственной недвижимости', 'недвижимость',\n",
       "       'строительство недвижимости', 'на покупку подержанного автомобиля',\n",
       "       'на покупку своего автомобиля',\n",
       "       'операции с коммерческой недвижимостью',\n",
       "       'строительство жилой недвижимости', 'жилье',\n",
       "       'операции со своей недвижимостью', 'автомобили',\n",
       "       'заняться образованием', 'сделка с подержанным автомобилем',\n",
       "       'получение образования', 'автомобиль', 'свадьба',\n",
       "       'получение дополнительного образования', 'покупка своего жилья',\n",
       "       'операции с недвижимостью', 'получение высшего образования',\n",
       "       'свой автомобиль', 'сделка с автомобилем',\n",
       "       'профильное образование', 'высшее образование',\n",
       "       'покупка жилья для сдачи', 'на покупку автомобиля', 'ремонт жилью',\n",
       "       'заняться высшим образованием'], dtype=object)"
      ]
     },
     "execution_count": 19,
     "metadata": {},
     "output_type": "execute_result"
    }
   ],
   "source": [
    "data['purpose'].unique()"
   ]
  },
  {
   "cell_type": "markdown",
   "id": "8f38c1a3",
   "metadata": {
    "deletable": false,
    "editable": false,
    "id": "85d0aef0"
   },
   "source": [
    "**Задание 18. Создайте функцию, которая на основании данных из столбца `purpose` сформирует новый столбец `purpose_category`, в который войдут следующие категории:**\n",
    "\n",
    "- `'операции с автомобилем'`,\n",
    "- `'операции с недвижимостью'`,\n",
    "- `'проведение свадьбы'`,\n",
    "- `'получение образования'`.\n",
    "\n",
    "**Например, если в столбце `purpose` находится подстрока `'на покупку автомобиля'`, то в столбце `purpose_category` должна появиться строка `'операции с автомобилем'`.**\n",
    "\n",
    "**Используйте собственную функцию с именем `categorize_purpose()` и метод `apply()`. Изучите данные в столбце `purpose` и определите, какие подстроки помогут вам правильно определить категорию.**"
   ]
  },
  {
   "cell_type": "code",
   "execution_count": 20,
   "id": "7b419294",
   "metadata": {
    "deletable": false,
    "id": "e149fab4"
   },
   "outputs": [],
   "source": [
    "def categorize_purpose(row):\n",
    "    try:\n",
    "        if 'автом' in row:\n",
    "            return 'операции с автомобилем'\n",
    "        elif 'жил' in row or 'недвиж' in row:\n",
    "            return 'операции с недвижимостью'\n",
    "        elif 'свад' in row:\n",
    "            return 'проведение свадьбы'\n",
    "        elif 'образов' in row:\n",
    "            return 'получение образования'\n",
    "    except:\n",
    "        return 'нет категории'"
   ]
  },
  {
   "cell_type": "code",
   "execution_count": 21,
   "id": "3613ee70",
   "metadata": {
    "deletable": false,
    "id": "bf36e69b"
   },
   "outputs": [],
   "source": [
    "data['purpose_category'] = data['purpose'].apply(categorize_purpose)"
   ]
  },
  {
   "cell_type": "markdown",
   "id": "63f81474",
   "metadata": {
    "deletable": false,
    "editable": false,
    "id": "09b242bf"
   },
   "source": [
    "### Шаг 3. Исследуйте данные и ответьте на вопросы"
   ]
  },
  {
   "cell_type": "markdown",
   "id": "dae344da",
   "metadata": {
    "deletable": false,
    "editable": false,
    "id": "c5d66278"
   },
   "source": [
    "#### 3.1 Есть ли зависимость между количеством детей и возвратом кредита в срок?"
   ]
  },
  {
   "cell_type": "code",
   "execution_count": 22,
   "id": "f6fa5846",
   "metadata": {
    "deletable": false,
    "id": "2cacfc4a",
    "scrolled": true
   },
   "outputs": [
    {
     "data": {
      "text/html": [
       "<div>\n",
       "<style scoped>\n",
       "    .dataframe tbody tr th:only-of-type {\n",
       "        vertical-align: middle;\n",
       "    }\n",
       "\n",
       "    .dataframe tbody tr th {\n",
       "        vertical-align: top;\n",
       "    }\n",
       "\n",
       "    .dataframe thead th {\n",
       "        text-align: right;\n",
       "    }\n",
       "</style>\n",
       "<table border=\"1\" class=\"dataframe\">\n",
       "  <thead>\n",
       "    <tr style=\"text-align: right;\">\n",
       "      <th>debt</th>\n",
       "      <th>0</th>\n",
       "      <th>1</th>\n",
       "      <th>relation_off</th>\n",
       "    </tr>\n",
       "    <tr>\n",
       "      <th>children</th>\n",
       "      <th></th>\n",
       "      <th></th>\n",
       "      <th></th>\n",
       "    </tr>\n",
       "  </thead>\n",
       "  <tbody>\n",
       "    <tr>\n",
       "      <th>0</th>\n",
       "      <td>13028.0</td>\n",
       "      <td>1063.0</td>\n",
       "      <td>7.543822</td>\n",
       "    </tr>\n",
       "    <tr>\n",
       "      <th>1</th>\n",
       "      <td>4364.0</td>\n",
       "      <td>444.0</td>\n",
       "      <td>9.234609</td>\n",
       "    </tr>\n",
       "    <tr>\n",
       "      <th>2</th>\n",
       "      <td>1858.0</td>\n",
       "      <td>194.0</td>\n",
       "      <td>9.454191</td>\n",
       "    </tr>\n",
       "    <tr>\n",
       "      <th>3</th>\n",
       "      <td>303.0</td>\n",
       "      <td>27.0</td>\n",
       "      <td>8.181818</td>\n",
       "    </tr>\n",
       "    <tr>\n",
       "      <th>4</th>\n",
       "      <td>37.0</td>\n",
       "      <td>4.0</td>\n",
       "      <td>9.756098</td>\n",
       "    </tr>\n",
       "    <tr>\n",
       "      <th>5</th>\n",
       "      <td>9.0</td>\n",
       "      <td>NaN</td>\n",
       "      <td>NaN</td>\n",
       "    </tr>\n",
       "  </tbody>\n",
       "</table>\n",
       "</div>"
      ],
      "text/plain": [
       "debt            0       1  relation_off\n",
       "children                               \n",
       "0         13028.0  1063.0      7.543822\n",
       "1          4364.0   444.0      9.234609\n",
       "2          1858.0   194.0      9.454191\n",
       "3           303.0    27.0      8.181818\n",
       "4            37.0     4.0      9.756098\n",
       "5             9.0     NaN           NaN"
      ]
     },
     "metadata": {},
     "output_type": "display_data"
    }
   ],
   "source": [
    "# Создаем сводную таблицу, в которой выводим количество просрочек\n",
    "# и отданных вовремя кредитов, в зависимости от количества детей. \n",
    "chil_debt = data.pivot_table(index='children',columns='debt',values='purpose',aggfunc='count')\n",
    "\n",
    "# Создаем колонку с отношением должников ко всем кто брал кредит по количеству детей.\n",
    "chil_debt['relation_off'] = (chil_debt[1]/(chil_debt[1]+chil_debt[0]))*100\n",
    "\n",
    "# Выводим на экран таблицу\n",
    "display(chil_debt)"
   ]
  },
  {
   "cell_type": "markdown",
   "id": "eceb35bf",
   "metadata": {
    "deletable": false,
    "id": "3a6b99ec"
   },
   "source": [
    "**Вывод:** \n",
    "\n",
    "Из получившейся сводной таблици видно:\n",
    "* Чем больше детей, там меньше люди берут кредит\n",
    "* Чем больше детей, тем больше вероятность что клиент не вернет кредит вовремя, кроме тех, у кого 3 детей.\n",
    "* Ввиду малого количества клиентов с 3, 4 детьми в выборке, видно совсем небольшое увеличение процента невозврата.\n",
    "* Людей с 5 детьми слишком мало, чтобы говорить о том, что они возвращают кредит вовремя."
   ]
  },
  {
   "cell_type": "markdown",
   "id": "d89c0143",
   "metadata": {
    "deletable": false,
    "editable": false,
    "id": "97be82ca"
   },
   "source": [
    "#### 3.2 Есть ли зависимость между семейным положением и возвратом кредита в срок?"
   ]
  },
  {
   "cell_type": "code",
   "execution_count": 23,
   "id": "835f07e3",
   "metadata": {
    "deletable": false,
    "id": "dc3f7ee8"
   },
   "outputs": [
    {
     "data": {
      "text/html": [
       "<div>\n",
       "<style scoped>\n",
       "    .dataframe tbody tr th:only-of-type {\n",
       "        vertical-align: middle;\n",
       "    }\n",
       "\n",
       "    .dataframe tbody tr th {\n",
       "        vertical-align: top;\n",
       "    }\n",
       "\n",
       "    .dataframe thead th {\n",
       "        text-align: right;\n",
       "    }\n",
       "</style>\n",
       "<table border=\"1\" class=\"dataframe\">\n",
       "  <thead>\n",
       "    <tr style=\"text-align: right;\">\n",
       "      <th>debt</th>\n",
       "      <th>0</th>\n",
       "      <th>1</th>\n",
       "      <th>relation_off</th>\n",
       "    </tr>\n",
       "    <tr>\n",
       "      <th>family_status</th>\n",
       "      <th></th>\n",
       "      <th></th>\n",
       "      <th></th>\n",
       "    </tr>\n",
       "  </thead>\n",
       "  <tbody>\n",
       "    <tr>\n",
       "      <th>Не женат / не замужем</th>\n",
       "      <td>2523</td>\n",
       "      <td>273</td>\n",
       "      <td>9.763948</td>\n",
       "    </tr>\n",
       "    <tr>\n",
       "      <th>гражданский брак</th>\n",
       "      <td>3749</td>\n",
       "      <td>385</td>\n",
       "      <td>9.313014</td>\n",
       "    </tr>\n",
       "    <tr>\n",
       "      <th>женат / замужем</th>\n",
       "      <td>11334</td>\n",
       "      <td>927</td>\n",
       "      <td>7.560558</td>\n",
       "    </tr>\n",
       "    <tr>\n",
       "      <th>в разводе</th>\n",
       "      <td>1105</td>\n",
       "      <td>84</td>\n",
       "      <td>7.064760</td>\n",
       "    </tr>\n",
       "    <tr>\n",
       "      <th>вдовец / вдова</th>\n",
       "      <td>888</td>\n",
       "      <td>63</td>\n",
       "      <td>6.624606</td>\n",
       "    </tr>\n",
       "  </tbody>\n",
       "</table>\n",
       "</div>"
      ],
      "text/plain": [
       "debt                       0    1  relation_off\n",
       "family_status                                  \n",
       "Не женат / не замужем   2523  273      9.763948\n",
       "гражданский брак        3749  385      9.313014\n",
       "женат / замужем        11334  927      7.560558\n",
       "в разводе               1105   84      7.064760\n",
       "вдовец / вдова           888   63      6.624606"
      ]
     },
     "metadata": {},
     "output_type": "display_data"
    }
   ],
   "source": [
    "# Создаем таблицу, в которой выводим количество просрочек и отданных вовремя кредитов,\n",
    "# в зависимости от семейного положения.\n",
    "fstat_debt = data.pivot_table(index='family_status',columns='debt',values='purpose',aggfunc='count')\n",
    "\n",
    "# # Создаем колонку с отношением должников ко всем кто брал кредит по семейному положению.\n",
    "fstat_debt['relation_off'] = fstat_debt[1]/(fstat_debt[0]+fstat_debt[1])*100\n",
    "\n",
    "# Выводим таблицу на экран.\n",
    "display(fstat_debt.sort_values('relation_off',ascending=False))"
   ]
  },
  {
   "cell_type": "markdown",
   "id": "1462aa6a",
   "metadata": {
    "deletable": false,
    "id": "1cef7837"
   },
   "source": [
    "**Вывод:** \n",
    "\n",
    "Из таблицы видно:\n",
    "* Не женатые и состоящие в гражданском браке чаще всех остальных имеют просрочки.\n",
    "* Вцелом влияние семейного положения минимально - разница примерно 2-3%"
   ]
  },
  {
   "cell_type": "markdown",
   "id": "14ba7803",
   "metadata": {
    "deletable": false,
    "editable": false,
    "id": "1e8b2fca"
   },
   "source": [
    "#### 3.3 Есть ли зависимость между уровнем дохода и возвратом кредита в срок?"
   ]
  },
  {
   "cell_type": "code",
   "execution_count": 24,
   "id": "7f2c82d3",
   "metadata": {
    "scrolled": true
   },
   "outputs": [
    {
     "name": "stdout",
     "output_type": "stream",
     "text": [
      "До 100 т.р: 4444 человек.\n",
      "101-300 т.р:  15413 человек.\n",
      "301-500 т.р: 1252 человек\n",
      "501-1млн: 197 человек\n",
      "Больше 1 млн.: 25 человек\n"
     ]
    }
   ],
   "source": [
    "# Посмотрим количество респондентов по уровню зароботка\n",
    "print('До 100 т.р:',data.loc[data.total_income <= 100000]['total_income'].count(), \"человек.\")\n",
    "print('101-300 т.р: ',data.loc[(data.total_income <= 300000)&(data.total_income >= 100001)]['total_income'].count(),'человек.')\n",
    "print('301-500 т.р:',data.loc[(data.total_income <= 500000)&(data.total_income >= 300001)]['total_income'].count(),'человек')\n",
    "print('501-1млн:',data.loc[(data.total_income <= 1000000)&(data.total_income >= 500001)]['total_income'].count(),'человек')\n",
    "print('Больше 1 млн.:',data.loc[data.total_income >= 1000001]['total_income'].count(),'человек')"
   ]
  },
  {
   "cell_type": "markdown",
   "id": "d5be72ad",
   "metadata": {},
   "source": [
    "**Видим, что слишком большое количетво людей с доходом от 101 до 300 т.р.**\n",
    "\n",
    "**Разобьем эту группу на две, для большей детализации**\n",
    "\n",
    "**Респондентов с доходом больше 301 т.р мало, поэтому совместим эти группы**"
   ]
  },
  {
   "cell_type": "code",
   "execution_count": 25,
   "id": "ed637cc9",
   "metadata": {},
   "outputs": [
    {
     "name": "stdout",
     "output_type": "stream",
     "text": [
      "Все респонденты по уровню достатка:\n",
      "До 100 т.р: 4444 человек.\n",
      "101-200 т.р: 11848 человек.\n",
      "201-300 т.р: 3565 человек\n",
      "Больше 300 т.р: 1474 человек\n"
     ]
    }
   ],
   "source": [
    "# Более детализированная разбивка количества респондентов по уровню зароботка\n",
    "print('Все респонденты по уровню достатка:')\n",
    "low_100 = data.loc[data.total_income <= 100000]['total_income'].count()\n",
    "print(f'До 100 т.р: {low_100} человек.')\n",
    "\n",
    "for_101_to_200 = data.loc[(data.total_income <= 200000)&(data.total_income >= 100001)]['total_income'].count() \n",
    "print(f'101-200 т.р: {for_101_to_200} человек.')\n",
    "\n",
    "for_201_to_300 = data.loc[(data.total_income <= 300000)&(data.total_income >= 200001)]['total_income'].count()\n",
    "print(f'201-300 т.р: {for_201_to_300} человек')\n",
    "\n",
    "up_301 = data.loc[data.total_income > 300001]['total_income'].count()\n",
    "print(f'Больше 300 т.р: {up_301} человек')"
   ]
  },
  {
   "cell_type": "code",
   "execution_count": 26,
   "id": "47c51faf",
   "metadata": {},
   "outputs": [
    {
     "name": "stdout",
     "output_type": "stream",
     "text": [
      "Должники по уровню достатка\n",
      "До 100 т.р: 354 человек.\n",
      "101-200 т.р: 1022 человек.\n",
      "201-300 т.р: 250 человек\n",
      "Больше 300 т.р: 106 человек\n"
     ]
    }
   ],
   "source": [
    "# Подсчитаем всех должников\n",
    "relation_off = data.loc[data.debt==1]\n",
    "\n",
    "print('Должники по уровню достатка')\n",
    "\n",
    "# Разобьем должников по уровню достатка.\n",
    "off_low_100 = relation_off.loc[relation_off.total_income <= 100000]['total_income'].count()\n",
    "print(f'До 100 т.р: {off_low_100} человек.')\n",
    "\n",
    "off_for_101_to_200 = relation_off.loc[(relation_off.total_income <= 200000)&\n",
    "                                      (relation_off.total_income >= 100001)]['total_income'].count() \n",
    "print(f'101-200 т.р: {off_for_101_to_200} человек.')\n",
    "\n",
    "off_for_201_to_300 = relation_off.loc[(relation_off.total_income <= 300000)&\n",
    "                                      (relation_off.total_income >= 200001)]['total_income'].count()\n",
    "print(f'201-300 т.р: {off_for_201_to_300} человек')\n",
    "\n",
    "off_up_301 = relation_off.loc[relation_off.total_income > 300001]['total_income'].count()\n",
    "print(f'Больше 300 т.р: {off_up_301} человек')"
   ]
  },
  {
   "cell_type": "markdown",
   "id": "cd2f6654",
   "metadata": {},
   "source": [
    "**Соберем таблицу из всех респондентов и должников по уровню достатка и отношению между ними.**"
   ]
  },
  {
   "cell_type": "code",
   "execution_count": 27,
   "id": "3669f8ed",
   "metadata": {
    "deletable": false,
    "id": "cd7e3720"
   },
   "outputs": [
    {
     "data": {
      "text/html": [
       "<div>\n",
       "<style scoped>\n",
       "    .dataframe tbody tr th:only-of-type {\n",
       "        vertical-align: middle;\n",
       "    }\n",
       "\n",
       "    .dataframe tbody tr th {\n",
       "        vertical-align: top;\n",
       "    }\n",
       "\n",
       "    .dataframe thead th {\n",
       "        text-align: right;\n",
       "    }\n",
       "</style>\n",
       "<table border=\"1\" class=\"dataframe\">\n",
       "  <thead>\n",
       "    <tr style=\"text-align: right;\">\n",
       "      <th></th>\n",
       "      <th>Отдавшие</th>\n",
       "      <th>Должники</th>\n",
       "      <th>Отношение</th>\n",
       "    </tr>\n",
       "  </thead>\n",
       "  <tbody>\n",
       "    <tr>\n",
       "      <th>До 100</th>\n",
       "      <td>4444</td>\n",
       "      <td>354</td>\n",
       "      <td>7.378074</td>\n",
       "    </tr>\n",
       "    <tr>\n",
       "      <th>101-200</th>\n",
       "      <td>11848</td>\n",
       "      <td>1022</td>\n",
       "      <td>7.940948</td>\n",
       "    </tr>\n",
       "    <tr>\n",
       "      <th>201-300</th>\n",
       "      <td>3565</td>\n",
       "      <td>250</td>\n",
       "      <td>6.553080</td>\n",
       "    </tr>\n",
       "    <tr>\n",
       "      <th>Больше 300</th>\n",
       "      <td>1474</td>\n",
       "      <td>106</td>\n",
       "      <td>6.708861</td>\n",
       "    </tr>\n",
       "  </tbody>\n",
       "</table>\n",
       "</div>"
      ],
      "text/plain": [
       "            Отдавшие  Должники  Отношение\n",
       "До 100          4444       354   7.378074\n",
       "101-200        11848      1022   7.940948\n",
       "201-300         3565       250   6.553080\n",
       "Больше 300      1474       106   6.708861"
      ]
     },
     "metadata": {},
     "output_type": "display_data"
    }
   ],
   "source": [
    "# Индексы для таблицы\n",
    "index = ['До 100','101-200','201-300','Больше 300']\n",
    "\n",
    "#Данные для таблицы\n",
    "data = {'Отдавшие':[low_100,for_101_to_200,for_201_to_300,up_301],\n",
    "       'Должники':[off_low_100,off_for_101_to_200,off_for_201_to_300,off_up_301]}\n",
    "\n",
    "#Собираем таблицу\n",
    "income_level = pd.DataFrame(index=index,data=data)\n",
    "\n",
    "#Добавим колонку отношений должников ко всем респондентам по уровню достатка\n",
    "income_level['Отношение'] = (income_level['Должники']/(income_level['Отдавшие']+income_level['Должники']))*100\n",
    "\n",
    "# Выводим таблицу на экран\n",
    "display(income_level)"
   ]
  },
  {
   "cell_type": "markdown",
   "id": "c7bc0134",
   "metadata": {
    "deletable": false,
    "id": "e8593def"
   },
   "source": [
    "**Вывод:** \n",
    "Из получившейся таблицы видно, что разница минимальна, в пределах 1-2%.\n",
    "Хотя тенденция к тому, что чем больше достаток, тем меньше просрочек, есть.\n",
    "Говорить более точно сложно, ввиду довольно большой разницы в достатке в данной выборке респондентов."
   ]
  },
  {
   "cell_type": "markdown",
   "id": "83210cbe",
   "metadata": {
    "deletable": false,
    "editable": false,
    "id": "99ecbd1f"
   },
   "source": [
    "#### 3.4 Как разные цели кредита влияют на его возврат в срок?"
   ]
  },
  {
   "cell_type": "code",
   "execution_count": 31,
   "id": "d6256645",
   "metadata": {},
   "outputs": [
    {
     "name": "stdout",
     "output_type": "stream",
     "text": [
      "['покупка жилья' 'приобретение автомобиля' 'дополнительное образование'\n",
      " 'сыграть свадьбу' 'операции с жильем' 'образование'\n",
      " 'на проведение свадьбы' 'покупка жилья для семьи' 'покупка недвижимости'\n",
      " 'покупка коммерческой недвижимости' 'покупка жилой недвижимости'\n",
      " 'строительство собственной недвижимости' 'недвижимость'\n",
      " 'строительство недвижимости' 'на покупку подержанного автомобиля'\n",
      " 'на покупку своего автомобиля' 'операции с коммерческой недвижимостью'\n",
      " 'строительство жилой недвижимости' 'жилье'\n",
      " 'операции со своей недвижимостью' 'автомобили' 'заняться образованием'\n",
      " 'сделка с подержанным автомобилем' 'получение образования' 'автомобиль'\n",
      " 'свадьба' 'получение дополнительного образования' 'покупка своего жилья'\n",
      " 'операции с недвижимостью' 'получение высшего образования'\n",
      " 'свой автомобиль' 'сделка с автомобилем' 'профильное образование'\n",
      " 'высшее образование' 'покупка жилья для сдачи' 'на покупку автомобиля'\n",
      " 'ремонт жилью' 'заняться высшим образованием']\n"
     ]
    }
   ],
   "source": [
    "# Смотрим уникальные цели на кредит\n",
    "print(data.purpose.unique())"
   ]
  },
  {
   "cell_type": "markdown",
   "id": "4628cfd8",
   "metadata": {},
   "source": [
    "***Слишком большое количество формулировок, подходящих под одинаковый смысл.\n",
    "Необходимо обработать и скомпоновать все формулировки по смыслу***"
   ]
  },
  {
   "cell_type": "markdown",
   "id": "2980e960",
   "metadata": {},
   "source": [
    "***Разобьем формулировки по категориям***\n",
    "* Недвижимость\n",
    "* Авто\n",
    "* Свадьба\n",
    "* Образование"
   ]
  },
  {
   "cell_type": "code",
   "execution_count": 33,
   "id": "f936d92c",
   "metadata": {},
   "outputs": [],
   "source": [
    "# Функция для категорий\n",
    "def catt(purpose):\n",
    "    '''Возвращает категорию по значению формулировки'''\n",
    "    if 'жиль' in purpose or 'недвиж' in purpose:\n",
    "        return \"Недвижимость\"\n",
    "    if 'авто' in purpose:\n",
    "        return 'Авто'\n",
    "    if 'свадь' in purpose:\n",
    "        return 'Свадьба'\n",
    "    if 'образов' in purpose:\n",
    "        return 'Образование'  \n",
    "\n",
    "# Создадим колонку с категориями в зависимости от формулировок\n",
    "data['purpose_group'] = data['purpose'].apply(catt)"
   ]
  },
  {
   "cell_type": "code",
   "execution_count": 35,
   "id": "ce6e6b30",
   "metadata": {
    "deletable": false,
    "id": "2b687290"
   },
   "outputs": [
    {
     "data": {
      "text/html": [
       "<div>\n",
       "<style scoped>\n",
       "    .dataframe tbody tr th:only-of-type {\n",
       "        vertical-align: middle;\n",
       "    }\n",
       "\n",
       "    .dataframe tbody tr th {\n",
       "        vertical-align: top;\n",
       "    }\n",
       "\n",
       "    .dataframe thead th {\n",
       "        text-align: right;\n",
       "    }\n",
       "</style>\n",
       "<table border=\"1\" class=\"dataframe\">\n",
       "  <thead>\n",
       "    <tr style=\"text-align: right;\">\n",
       "      <th>debt</th>\n",
       "      <th>0</th>\n",
       "      <th>1</th>\n",
       "      <th>relation</th>\n",
       "    </tr>\n",
       "    <tr>\n",
       "      <th>purpose_group</th>\n",
       "      <th></th>\n",
       "      <th></th>\n",
       "      <th></th>\n",
       "    </tr>\n",
       "  </thead>\n",
       "  <tbody>\n",
       "    <tr>\n",
       "      <th>Недвижимость</th>\n",
       "      <td>9043</td>\n",
       "      <td>715</td>\n",
       "      <td>7.327321</td>\n",
       "    </tr>\n",
       "    <tr>\n",
       "      <th>Свадьба</th>\n",
       "      <td>1941</td>\n",
       "      <td>158</td>\n",
       "      <td>7.527394</td>\n",
       "    </tr>\n",
       "    <tr>\n",
       "      <th>Образование</th>\n",
       "      <td>3266</td>\n",
       "      <td>331</td>\n",
       "      <td>9.202113</td>\n",
       "    </tr>\n",
       "    <tr>\n",
       "      <th>Авто</th>\n",
       "      <td>3530</td>\n",
       "      <td>367</td>\n",
       "      <td>9.417501</td>\n",
       "    </tr>\n",
       "  </tbody>\n",
       "</table>\n",
       "</div>"
      ],
      "text/plain": [
       "debt              0    1  relation\n",
       "purpose_group                     \n",
       "Недвижимость   9043  715  7.327321\n",
       "Свадьба        1941  158  7.527394\n",
       "Образование    3266  331  9.202113\n",
       "Авто           3530  367  9.417501"
      ]
     },
     "metadata": {},
     "output_type": "display_data"
    }
   ],
   "source": [
    "# Построим сводную таблицу по целям на кредит, количество отдавших, количетво должников.\n",
    "purpose_debt = data.pivot_table(index='purpose_group',columns='debt',values='total_income',aggfunc='count')\n",
    "\n",
    "# Добавляем колонку с отношением должников ко всем респондентам по цели на кредит.\n",
    "purpose_debt['relation'] = (purpose_debt[1]/(purpose_debt[0]+purpose_debt[1]))*100\n",
    "\n",
    "# Выводим таблицу на экран\n",
    "display(purpose_debt.sort_values('relation'))"
   ]
  },
  {
   "cell_type": "markdown",
   "id": "871a9029",
   "metadata": {
    "deletable": false,
    "id": "b4bb2ce6"
   },
   "source": [
    "**Вывод:** \n",
    "Респонденты чаще возвращают кредит в срок, когда берут кредит на операции с недвижимостью или свадьбу.\n",
    "Респонденты, кто берет кредит на операции с авто, чаще всех не оплачивают кредит вовремя. "
   ]
  },
  {
   "cell_type": "markdown",
   "id": "b1f65018",
   "metadata": {
    "deletable": false,
    "editable": false,
    "id": "09c3ac4c"
   },
   "source": [
    "#### 3.5 Приведите возможные причины появления пропусков в исходных данных."
   ]
  },
  {
   "cell_type": "markdown",
   "id": "db30c347",
   "metadata": {
    "deletable": false,
    "id": "9da2ceda"
   },
   "source": [
    "*Ответ:* \n",
    "* Человеческий фактор (забыл или не захотел заполнять поля)\n",
    "* Сбои при работе с данными (обработка, пересылка...)"
   ]
  },
  {
   "cell_type": "markdown",
   "id": "5035cc72",
   "metadata": {
    "deletable": false,
    "editable": false,
    "id": "7b0487d6"
   },
   "source": [
    "#### 3.6 Объясните, почему заполнить пропуски медианным значением — лучшее решение для количественных переменных."
   ]
  },
  {
   "cell_type": "markdown",
   "id": "2548397f",
   "metadata": {
    "deletable": false,
    "id": "7ecf2b8e"
   },
   "source": [
    "*Ответ:* \n",
    "Потому что в данных могут встречатья координально разные значения, которые могут сильно повлиять на результат иследования, а медианна \"выравнивает\" выборку данных, таким образом снижая риск некорректных расчетов."
   ]
  },
  {
   "cell_type": "markdown",
   "id": "3aab4d65",
   "metadata": {
    "deletable": false,
    "editable": false,
    "id": "6db5255a"
   },
   "source": [
    "### Шаг 4: общий вывод."
   ]
  },
  {
   "cell_type": "markdown",
   "id": "e4b5076c",
   "metadata": {
    "deletable": false,
    "id": "bad65432"
   },
   "source": [
    "**Из исследованных данных, можно сделать выводы что:**\n",
    "* Чем больше детей у респондента, тем больше риск что респондент не вернет кредит в срок.\n",
    "* Респонденты, которые женаты/замужем, вдовцы, разведенные чаще всех остальных отдают кредит в срок. А не женатые и состоящие в гражданском браке чаще всех остальных имеют просрочки.\n",
    "* Чем выше достаток у респондента, тем больше вероятность что респондент вернет кредит в срок.\n",
    "* Респонденты, берущие кредит на операции с авто и на образование, чаще всех имеют просрочки по кредиту.\n",
    "\n",
    "Исходя из выше перечисленного, можем составить портрет самого надежного заемщика и самого ненадежного.\n",
    "\n",
    "**Самый надежный:**\n",
    "Респондент не имеет детей, вдовец или женат/замужем, с достатком выше 200т.р, с целью кредита на операции с недвижимостью.\n",
    "\n",
    "**Самы ненадежный:**\n",
    "Респондент имеющий 2 и более детей, не женат/не замужем, с достатком меньше 200т.р, с целью кредита на образование или авто.\n",
    "\n",
    "**На основании полученных данных можно разработать систему, которая бы учитывала: количество детей, семейное положение, уровень достатка и цель кредита и классифицировала заемщиков по \"надежности\". Данная система позволит выдавать кредиты с меньшими рисками для банка.** "
   ]
  },
  {
   "cell_type": "code",
   "execution_count": null,
   "id": "b41422f8",
   "metadata": {},
   "outputs": [],
   "source": []
  }
 ],
 "metadata": {
  "ExecuteTimeLog": [
   {
    "duration": 534,
    "start_time": "2022-10-07T21:36:13.211Z"
   },
   {
    "duration": 27,
    "start_time": "2022-10-07T21:36:13.748Z"
   },
   {
    "duration": 17,
    "start_time": "2022-10-07T21:36:13.777Z"
   },
   {
    "duration": 41,
    "start_time": "2022-10-07T21:36:13.796Z"
   },
   {
    "duration": 50,
    "start_time": "2022-10-07T21:36:13.844Z"
   },
   {
    "duration": 11,
    "start_time": "2022-10-07T21:36:13.897Z"
   },
   {
    "duration": 51,
    "start_time": "2022-10-07T21:36:13.911Z"
   },
   {
    "duration": 5,
    "start_time": "2022-10-07T21:36:13.964Z"
   },
   {
    "duration": 12,
    "start_time": "2022-10-07T21:36:13.971Z"
   },
   {
    "duration": 6,
    "start_time": "2022-10-07T21:36:13.984Z"
   },
   {
    "duration": 40,
    "start_time": "2022-10-07T21:36:13.992Z"
   },
   {
    "duration": 13,
    "start_time": "2022-10-07T21:36:14.034Z"
   },
   {
    "duration": 26,
    "start_time": "2022-10-07T21:36:14.049Z"
   },
   {
    "duration": 11,
    "start_time": "2022-10-07T21:36:14.079Z"
   },
   {
    "duration": 22,
    "start_time": "2022-10-07T21:36:14.092Z"
   },
   {
    "duration": 24,
    "start_time": "2022-10-07T21:36:14.116Z"
   },
   {
    "duration": 25,
    "start_time": "2022-10-07T21:36:14.142Z"
   },
   {
    "duration": 15,
    "start_time": "2022-10-07T21:36:14.169Z"
   },
   {
    "duration": 13,
    "start_time": "2022-10-07T21:36:14.186Z"
   },
   {
    "duration": 8,
    "start_time": "2022-10-07T21:36:14.200Z"
   },
   {
    "duration": 21,
    "start_time": "2022-10-07T21:36:14.210Z"
   },
   {
    "duration": 30,
    "start_time": "2022-10-07T21:36:14.233Z"
   },
   {
    "duration": 7,
    "start_time": "2022-10-07T21:36:14.265Z"
   },
   {
    "duration": 13,
    "start_time": "2022-10-07T21:36:14.273Z"
   },
   {
    "duration": 6,
    "start_time": "2022-10-07T21:36:14.288Z"
   },
   {
    "duration": 7,
    "start_time": "2022-10-07T21:40:44.488Z"
   },
   {
    "duration": 4,
    "start_time": "2022-10-07T21:41:49.379Z"
   },
   {
    "duration": 7,
    "start_time": "2022-10-07T21:46:33.176Z"
   },
   {
    "duration": 25,
    "start_time": "2022-10-07T21:48:16.695Z"
   },
   {
    "duration": 10,
    "start_time": "2022-10-07T21:48:26.795Z"
   },
   {
    "duration": 13,
    "start_time": "2022-10-07T21:48:44.001Z"
   },
   {
    "duration": 34,
    "start_time": "2022-10-07T21:59:38.688Z"
   },
   {
    "duration": 23,
    "start_time": "2022-10-07T22:00:09.331Z"
   },
   {
    "duration": 29,
    "start_time": "2022-10-07T22:01:13.077Z"
   },
   {
    "duration": 66,
    "start_time": "2022-10-07T22:01:52.236Z"
   },
   {
    "duration": 12,
    "start_time": "2022-10-07T22:01:58.117Z"
   },
   {
    "duration": 50,
    "start_time": "2022-10-07T22:02:08.528Z"
   },
   {
    "duration": 88,
    "start_time": "2022-10-07T22:02:28.108Z"
   },
   {
    "duration": 36,
    "start_time": "2022-10-07T22:02:33.472Z"
   },
   {
    "duration": 62,
    "start_time": "2022-10-07T22:02:49.943Z"
   },
   {
    "duration": 765,
    "start_time": "2022-10-07T22:03:18.103Z"
   },
   {
    "duration": 55,
    "start_time": "2022-10-07T22:04:04.427Z"
   },
   {
    "duration": 8,
    "start_time": "2022-10-07T22:04:15.646Z"
   },
   {
    "duration": 16,
    "start_time": "2022-10-07T22:04:23.365Z"
   },
   {
    "duration": 14,
    "start_time": "2022-10-07T22:06:45.356Z"
   },
   {
    "duration": 50,
    "start_time": "2022-10-07T22:08:29.955Z"
   },
   {
    "duration": 14,
    "start_time": "2022-10-07T22:10:33.851Z"
   },
   {
    "duration": 15,
    "start_time": "2022-10-07T22:11:02.697Z"
   },
   {
    "duration": 11,
    "start_time": "2022-10-07T22:11:17.550Z"
   },
   {
    "duration": 15,
    "start_time": "2022-10-07T22:11:54.708Z"
   },
   {
    "duration": 48,
    "start_time": "2022-10-07T22:12:14.705Z"
   },
   {
    "duration": 14,
    "start_time": "2022-10-07T22:12:46.064Z"
   },
   {
    "duration": 59,
    "start_time": "2022-10-07T22:12:55.875Z"
   },
   {
    "duration": 19,
    "start_time": "2022-10-07T22:13:06.618Z"
   },
   {
    "duration": 14,
    "start_time": "2022-10-07T22:13:17.075Z"
   },
   {
    "duration": 49,
    "start_time": "2022-10-07T22:13:31.237Z"
   },
   {
    "duration": 14,
    "start_time": "2022-10-07T22:13:49.057Z"
   },
   {
    "duration": 12,
    "start_time": "2022-10-07T22:13:59.938Z"
   },
   {
    "duration": 13,
    "start_time": "2022-10-07T22:15:55.762Z"
   },
   {
    "duration": 16,
    "start_time": "2022-10-07T22:18:05.355Z"
   },
   {
    "duration": 14,
    "start_time": "2022-10-07T22:18:32.105Z"
   },
   {
    "duration": 45,
    "start_time": "2022-10-07T22:18:42.348Z"
   },
   {
    "duration": 1105,
    "start_time": "2022-10-07T22:18:55.559Z"
   },
   {
    "duration": 50,
    "start_time": "2022-10-07T22:19:07.262Z"
   },
   {
    "duration": 900,
    "start_time": "2022-10-07T22:19:29.806Z"
   },
   {
    "duration": 45,
    "start_time": "2022-10-07T22:19:44.978Z"
   },
   {
    "duration": 395,
    "start_time": "2022-10-07T22:21:09.931Z"
   },
   {
    "duration": 17,
    "start_time": "2022-10-07T22:21:56.807Z"
   },
   {
    "duration": 9,
    "start_time": "2022-10-07T22:22:09.675Z"
   },
   {
    "duration": 9,
    "start_time": "2022-10-07T22:22:17.635Z"
   },
   {
    "duration": 640,
    "start_time": "2022-10-07T22:22:24.046Z"
   },
   {
    "duration": 8,
    "start_time": "2022-10-07T22:23:04.327Z"
   },
   {
    "duration": 438,
    "start_time": "2022-10-07T22:23:14.767Z"
   },
   {
    "duration": 24,
    "start_time": "2022-10-07T22:23:15.208Z"
   },
   {
    "duration": 17,
    "start_time": "2022-10-07T22:23:15.233Z"
   },
   {
    "duration": 10,
    "start_time": "2022-10-07T22:23:15.251Z"
   },
   {
    "duration": 58,
    "start_time": "2022-10-07T22:23:15.263Z"
   },
   {
    "duration": 4,
    "start_time": "2022-10-07T22:23:15.322Z"
   },
   {
    "duration": 13,
    "start_time": "2022-10-07T22:23:15.328Z"
   },
   {
    "duration": 5,
    "start_time": "2022-10-07T22:23:15.343Z"
   },
   {
    "duration": 10,
    "start_time": "2022-10-07T22:23:15.349Z"
   },
   {
    "duration": 5,
    "start_time": "2022-10-07T22:23:15.361Z"
   },
   {
    "duration": 62,
    "start_time": "2022-10-07T22:23:15.367Z"
   },
   {
    "duration": 9,
    "start_time": "2022-10-07T22:23:15.431Z"
   },
   {
    "duration": 5,
    "start_time": "2022-10-07T22:23:15.442Z"
   },
   {
    "duration": 13,
    "start_time": "2022-10-07T22:23:15.450Z"
   },
   {
    "duration": 20,
    "start_time": "2022-10-07T22:23:15.464Z"
   },
   {
    "duration": 48,
    "start_time": "2022-10-07T22:23:15.486Z"
   },
   {
    "duration": 4,
    "start_time": "2022-10-07T22:23:15.535Z"
   },
   {
    "duration": 13,
    "start_time": "2022-10-07T22:23:15.540Z"
   },
   {
    "duration": 5,
    "start_time": "2022-10-07T22:23:15.555Z"
   },
   {
    "duration": 3,
    "start_time": "2022-10-07T22:23:15.562Z"
   },
   {
    "duration": 12,
    "start_time": "2022-10-07T22:23:15.567Z"
   },
   {
    "duration": 15,
    "start_time": "2022-10-07T22:23:15.581Z"
   },
   {
    "duration": 67,
    "start_time": "2022-10-07T22:23:15.597Z"
   },
   {
    "duration": 3,
    "start_time": "2022-10-07T22:23:15.665Z"
   },
   {
    "duration": 6,
    "start_time": "2022-10-07T22:23:15.669Z"
   },
   {
    "duration": 6,
    "start_time": "2022-10-07T22:23:15.676Z"
   },
   {
    "duration": 65,
    "start_time": "2022-10-07T22:23:40.493Z"
   },
   {
    "duration": 45,
    "start_time": "2022-10-07T22:23:52.386Z"
   },
   {
    "duration": 10,
    "start_time": "2022-10-07T22:25:28.841Z"
   },
   {
    "duration": 18,
    "start_time": "2022-10-07T22:25:42.906Z"
   },
   {
    "duration": 48,
    "start_time": "2022-10-07T22:25:51.112Z"
   },
   {
    "duration": 23,
    "start_time": "2022-10-07T22:26:08.853Z"
   },
   {
    "duration": 19,
    "start_time": "2022-10-07T22:26:16.280Z"
   },
   {
    "duration": 634,
    "start_time": "2022-10-07T22:28:10.121Z"
   },
   {
    "duration": 19,
    "start_time": "2022-10-07T22:28:28.805Z"
   },
   {
    "duration": 19,
    "start_time": "2022-10-07T22:28:58.230Z"
   },
   {
    "duration": 18,
    "start_time": "2022-10-07T22:30:27.470Z"
   },
   {
    "duration": 50,
    "start_time": "2022-10-08T12:03:08.756Z"
   },
   {
    "duration": 763,
    "start_time": "2022-10-08T12:03:18.107Z"
   },
   {
    "duration": 20,
    "start_time": "2022-10-08T12:03:18.872Z"
   },
   {
    "duration": 15,
    "start_time": "2022-10-08T12:03:18.894Z"
   },
   {
    "duration": 9,
    "start_time": "2022-10-08T12:03:18.911Z"
   },
   {
    "duration": 35,
    "start_time": "2022-10-08T12:03:18.921Z"
   },
   {
    "duration": 4,
    "start_time": "2022-10-08T12:03:18.957Z"
   },
   {
    "duration": 12,
    "start_time": "2022-10-08T12:03:18.962Z"
   },
   {
    "duration": 4,
    "start_time": "2022-10-08T12:03:18.976Z"
   },
   {
    "duration": 10,
    "start_time": "2022-10-08T12:03:18.981Z"
   },
   {
    "duration": 4,
    "start_time": "2022-10-08T12:03:18.993Z"
   },
   {
    "duration": 57,
    "start_time": "2022-10-08T12:03:18.999Z"
   },
   {
    "duration": 10,
    "start_time": "2022-10-08T12:03:19.057Z"
   },
   {
    "duration": 4,
    "start_time": "2022-10-08T12:03:19.068Z"
   },
   {
    "duration": 11,
    "start_time": "2022-10-08T12:03:19.074Z"
   },
   {
    "duration": 23,
    "start_time": "2022-10-08T12:03:19.086Z"
   },
   {
    "duration": 30,
    "start_time": "2022-10-08T12:03:19.111Z"
   },
   {
    "duration": 3,
    "start_time": "2022-10-08T12:03:19.143Z"
   },
   {
    "duration": 14,
    "start_time": "2022-10-08T12:03:19.147Z"
   },
   {
    "duration": 5,
    "start_time": "2022-10-08T12:03:19.163Z"
   },
   {
    "duration": 19,
    "start_time": "2022-10-08T12:03:19.169Z"
   },
   {
    "duration": 20,
    "start_time": "2022-10-08T12:03:19.190Z"
   },
   {
    "duration": 44,
    "start_time": "2022-10-08T12:03:19.212Z"
   },
   {
    "duration": 0,
    "start_time": "2022-10-08T12:03:19.257Z"
   },
   {
    "duration": 0,
    "start_time": "2022-10-08T12:03:19.258Z"
   },
   {
    "duration": 0,
    "start_time": "2022-10-08T12:03:19.259Z"
   },
   {
    "duration": 22,
    "start_time": "2022-10-08T12:03:25.142Z"
   },
   {
    "duration": 19,
    "start_time": "2022-10-08T12:04:21.409Z"
   },
   {
    "duration": 21,
    "start_time": "2022-10-08T12:13:00.951Z"
   },
   {
    "duration": 20,
    "start_time": "2022-10-08T12:13:24.046Z"
   },
   {
    "duration": 447,
    "start_time": "2022-10-08T12:13:32.155Z"
   },
   {
    "duration": 20,
    "start_time": "2022-10-08T12:13:32.604Z"
   },
   {
    "duration": 14,
    "start_time": "2022-10-08T12:13:32.625Z"
   },
   {
    "duration": 8,
    "start_time": "2022-10-08T12:13:32.640Z"
   },
   {
    "duration": 31,
    "start_time": "2022-10-08T12:13:32.650Z"
   },
   {
    "duration": 3,
    "start_time": "2022-10-08T12:13:32.682Z"
   },
   {
    "duration": 10,
    "start_time": "2022-10-08T12:13:32.686Z"
   },
   {
    "duration": 4,
    "start_time": "2022-10-08T12:13:32.697Z"
   },
   {
    "duration": 31,
    "start_time": "2022-10-08T12:13:32.702Z"
   },
   {
    "duration": 5,
    "start_time": "2022-10-08T12:13:32.735Z"
   },
   {
    "duration": 35,
    "start_time": "2022-10-08T12:13:32.741Z"
   },
   {
    "duration": 9,
    "start_time": "2022-10-08T12:13:32.777Z"
   },
   {
    "duration": 3,
    "start_time": "2022-10-08T12:13:32.788Z"
   },
   {
    "duration": 13,
    "start_time": "2022-10-08T12:13:32.796Z"
   },
   {
    "duration": 39,
    "start_time": "2022-10-08T12:13:32.810Z"
   },
   {
    "duration": 15,
    "start_time": "2022-10-08T12:13:32.851Z"
   },
   {
    "duration": 3,
    "start_time": "2022-10-08T12:13:32.868Z"
   },
   {
    "duration": 19,
    "start_time": "2022-10-08T12:13:32.873Z"
   },
   {
    "duration": 6,
    "start_time": "2022-10-08T12:13:32.893Z"
   },
   {
    "duration": 5,
    "start_time": "2022-10-08T12:13:32.901Z"
   },
   {
    "duration": 31,
    "start_time": "2022-10-08T12:13:32.907Z"
   },
   {
    "duration": 72,
    "start_time": "2022-10-08T12:13:32.939Z"
   },
   {
    "duration": 0,
    "start_time": "2022-10-08T12:13:33.013Z"
   },
   {
    "duration": 0,
    "start_time": "2022-10-08T12:13:33.014Z"
   },
   {
    "duration": 20,
    "start_time": "2022-10-08T12:13:49.404Z"
   },
   {
    "duration": 491,
    "start_time": "2022-10-08T12:15:24.823Z"
   },
   {
    "duration": 22,
    "start_time": "2022-10-08T12:15:25.316Z"
   },
   {
    "duration": 14,
    "start_time": "2022-10-08T12:15:25.339Z"
   },
   {
    "duration": 9,
    "start_time": "2022-10-08T12:15:25.354Z"
   },
   {
    "duration": 34,
    "start_time": "2022-10-08T12:15:25.366Z"
   },
   {
    "duration": 4,
    "start_time": "2022-10-08T12:15:25.401Z"
   },
   {
    "duration": 28,
    "start_time": "2022-10-08T12:15:25.406Z"
   },
   {
    "duration": 4,
    "start_time": "2022-10-08T12:15:25.435Z"
   },
   {
    "duration": 8,
    "start_time": "2022-10-08T12:15:25.441Z"
   },
   {
    "duration": 4,
    "start_time": "2022-10-08T12:15:25.451Z"
   },
   {
    "duration": 33,
    "start_time": "2022-10-08T12:15:25.456Z"
   },
   {
    "duration": 9,
    "start_time": "2022-10-08T12:15:25.490Z"
   },
   {
    "duration": 33,
    "start_time": "2022-10-08T12:15:25.501Z"
   },
   {
    "duration": 11,
    "start_time": "2022-10-08T12:15:25.537Z"
   },
   {
    "duration": 23,
    "start_time": "2022-10-08T12:15:25.550Z"
   },
   {
    "duration": 18,
    "start_time": "2022-10-08T12:15:25.575Z"
   },
   {
    "duration": 4,
    "start_time": "2022-10-08T12:15:25.594Z"
   },
   {
    "duration": 35,
    "start_time": "2022-10-08T12:15:25.599Z"
   },
   {
    "duration": 8,
    "start_time": "2022-10-08T12:15:25.636Z"
   },
   {
    "duration": 3,
    "start_time": "2022-10-08T12:15:25.646Z"
   },
   {
    "duration": 13,
    "start_time": "2022-10-08T12:15:25.651Z"
   },
   {
    "duration": 23,
    "start_time": "2022-10-08T12:15:25.666Z"
   },
   {
    "duration": 3,
    "start_time": "2022-10-08T12:15:25.691Z"
   },
   {
    "duration": 7,
    "start_time": "2022-10-08T12:15:25.695Z"
   },
   {
    "duration": 74,
    "start_time": "2022-10-08T12:19:51.393Z"
   },
   {
    "duration": 17,
    "start_time": "2022-10-08T12:20:08.536Z"
   },
   {
    "duration": 19,
    "start_time": "2022-10-08T12:22:31.045Z"
   },
   {
    "duration": 20,
    "start_time": "2022-10-08T12:23:12.057Z"
   },
   {
    "duration": 19,
    "start_time": "2022-10-08T12:23:32.948Z"
   },
   {
    "duration": 33,
    "start_time": "2022-10-08T16:13:01.857Z"
   },
   {
    "duration": 5,
    "start_time": "2022-10-08T16:14:47.390Z"
   },
   {
    "duration": 5,
    "start_time": "2022-10-08T16:15:55.116Z"
   },
   {
    "duration": 6,
    "start_time": "2022-10-08T16:16:13.420Z"
   },
   {
    "duration": 15,
    "start_time": "2022-10-08T17:08:42.912Z"
   },
   {
    "duration": 10,
    "start_time": "2022-10-08T17:09:06.143Z"
   },
   {
    "duration": 20,
    "start_time": "2022-10-08T17:09:44.598Z"
   },
   {
    "duration": 12,
    "start_time": "2022-10-08T17:10:36.615Z"
   },
   {
    "duration": 13,
    "start_time": "2022-10-08T17:11:19.520Z"
   },
   {
    "duration": 18,
    "start_time": "2022-10-08T17:12:00.020Z"
   },
   {
    "duration": 262,
    "start_time": "2022-10-09T12:03:01.965Z"
   },
   {
    "duration": 439,
    "start_time": "2022-10-09T12:03:08.005Z"
   },
   {
    "duration": 21,
    "start_time": "2022-10-09T12:03:08.446Z"
   },
   {
    "duration": 14,
    "start_time": "2022-10-09T12:03:08.468Z"
   },
   {
    "duration": 9,
    "start_time": "2022-10-09T12:03:08.484Z"
   },
   {
    "duration": 54,
    "start_time": "2022-10-09T12:03:08.494Z"
   },
   {
    "duration": 3,
    "start_time": "2022-10-09T12:03:08.550Z"
   },
   {
    "duration": 12,
    "start_time": "2022-10-09T12:03:08.555Z"
   },
   {
    "duration": 5,
    "start_time": "2022-10-09T12:03:08.568Z"
   },
   {
    "duration": 9,
    "start_time": "2022-10-09T12:03:08.574Z"
   },
   {
    "duration": 5,
    "start_time": "2022-10-09T12:03:08.584Z"
   },
   {
    "duration": 49,
    "start_time": "2022-10-09T12:03:08.590Z"
   },
   {
    "duration": 9,
    "start_time": "2022-10-09T12:03:08.645Z"
   },
   {
    "duration": 7,
    "start_time": "2022-10-09T12:03:08.656Z"
   },
   {
    "duration": 15,
    "start_time": "2022-10-09T12:03:08.665Z"
   },
   {
    "duration": 19,
    "start_time": "2022-10-09T12:03:08.682Z"
   },
   {
    "duration": 37,
    "start_time": "2022-10-09T12:03:08.702Z"
   },
   {
    "duration": 5,
    "start_time": "2022-10-09T12:03:08.741Z"
   },
   {
    "duration": 20,
    "start_time": "2022-10-09T12:03:08.748Z"
   },
   {
    "duration": 14,
    "start_time": "2022-10-09T12:03:08.770Z"
   },
   {
    "duration": 10,
    "start_time": "2022-10-09T12:03:08.786Z"
   },
   {
    "duration": 15,
    "start_time": "2022-10-09T12:03:08.797Z"
   },
   {
    "duration": 29,
    "start_time": "2022-10-09T12:03:08.814Z"
   },
   {
    "duration": 20,
    "start_time": "2022-10-09T12:03:08.849Z"
   },
   {
    "duration": 76,
    "start_time": "2022-10-09T12:03:08.871Z"
   },
   {
    "duration": 0,
    "start_time": "2022-10-09T12:03:08.948Z"
   },
   {
    "duration": 0,
    "start_time": "2022-10-09T12:03:08.949Z"
   },
   {
    "duration": 170,
    "start_time": "2022-10-09T12:03:32.303Z"
   },
   {
    "duration": 16,
    "start_time": "2022-10-09T12:03:43.330Z"
   },
   {
    "duration": 15,
    "start_time": "2022-10-09T12:03:55.711Z"
   },
   {
    "duration": 13,
    "start_time": "2022-10-09T12:04:37.252Z"
   },
   {
    "duration": 14,
    "start_time": "2022-10-09T12:05:10.204Z"
   },
   {
    "duration": 13,
    "start_time": "2022-10-09T12:05:33.478Z"
   },
   {
    "duration": 14,
    "start_time": "2022-10-09T12:06:03.664Z"
   },
   {
    "duration": 15,
    "start_time": "2022-10-09T12:08:03.545Z"
   },
   {
    "duration": 24,
    "start_time": "2022-10-09T12:11:23.831Z"
   },
   {
    "duration": 15,
    "start_time": "2022-10-09T12:11:47.476Z"
   },
   {
    "duration": 17,
    "start_time": "2022-10-09T12:12:54.477Z"
   },
   {
    "duration": 69,
    "start_time": "2022-10-09T18:30:04.557Z"
   },
   {
    "duration": 470,
    "start_time": "2022-10-09T18:30:10.899Z"
   },
   {
    "duration": 22,
    "start_time": "2022-10-09T18:30:11.371Z"
   },
   {
    "duration": 15,
    "start_time": "2022-10-09T18:30:11.395Z"
   },
   {
    "duration": 24,
    "start_time": "2022-10-09T18:30:11.412Z"
   },
   {
    "duration": 33,
    "start_time": "2022-10-09T18:30:11.438Z"
   },
   {
    "duration": 3,
    "start_time": "2022-10-09T18:30:11.473Z"
   },
   {
    "duration": 11,
    "start_time": "2022-10-09T18:30:11.477Z"
   },
   {
    "duration": 4,
    "start_time": "2022-10-09T18:30:11.490Z"
   },
   {
    "duration": 10,
    "start_time": "2022-10-09T18:30:11.496Z"
   },
   {
    "duration": 33,
    "start_time": "2022-10-09T18:30:11.509Z"
   },
   {
    "duration": 60,
    "start_time": "2022-10-09T18:30:11.543Z"
   },
   {
    "duration": 10,
    "start_time": "2022-10-09T18:30:11.605Z"
   },
   {
    "duration": 9,
    "start_time": "2022-10-09T18:30:11.617Z"
   },
   {
    "duration": 22,
    "start_time": "2022-10-09T18:30:11.628Z"
   },
   {
    "duration": 23,
    "start_time": "2022-10-09T18:30:11.651Z"
   },
   {
    "duration": 17,
    "start_time": "2022-10-09T18:30:11.676Z"
   },
   {
    "duration": 3,
    "start_time": "2022-10-09T18:30:11.695Z"
   },
   {
    "duration": 17,
    "start_time": "2022-10-09T18:30:11.701Z"
   },
   {
    "duration": 15,
    "start_time": "2022-10-09T18:30:11.720Z"
   },
   {
    "duration": 3,
    "start_time": "2022-10-09T18:30:11.737Z"
   },
   {
    "duration": 11,
    "start_time": "2022-10-09T18:30:11.742Z"
   },
   {
    "duration": 29,
    "start_time": "2022-10-09T18:30:11.754Z"
   },
   {
    "duration": 18,
    "start_time": "2022-10-09T18:30:11.784Z"
   },
   {
    "duration": 75,
    "start_time": "2022-10-09T18:30:11.803Z"
   },
   {
    "duration": 0,
    "start_time": "2022-10-09T18:30:11.880Z"
   },
   {
    "duration": 0,
    "start_time": "2022-10-09T18:30:11.882Z"
   },
   {
    "duration": 17,
    "start_time": "2022-10-09T18:31:00.849Z"
   },
   {
    "duration": 17,
    "start_time": "2022-10-09T18:32:03.034Z"
   },
   {
    "duration": 23,
    "start_time": "2022-10-09T18:33:09.677Z"
   },
   {
    "duration": 16,
    "start_time": "2022-10-09T18:33:15.390Z"
   },
   {
    "duration": 19,
    "start_time": "2022-10-09T18:33:50.560Z"
   },
   {
    "duration": 20,
    "start_time": "2022-10-09T18:34:41.500Z"
   },
   {
    "duration": 17,
    "start_time": "2022-10-09T18:35:23.911Z"
   },
   {
    "duration": 16,
    "start_time": "2022-10-09T18:35:36.802Z"
   },
   {
    "duration": 18,
    "start_time": "2022-10-09T18:36:18.955Z"
   },
   {
    "duration": 5,
    "start_time": "2022-10-09T19:22:26.101Z"
   },
   {
    "duration": 6,
    "start_time": "2022-10-09T19:22:37.677Z"
   },
   {
    "duration": 8,
    "start_time": "2022-10-09T19:22:54.406Z"
   },
   {
    "duration": 64,
    "start_time": "2022-10-09T19:24:22.523Z"
   },
   {
    "duration": 7,
    "start_time": "2022-10-09T19:24:34.217Z"
   },
   {
    "duration": 18,
    "start_time": "2022-10-09T19:25:57.539Z"
   },
   {
    "duration": 15,
    "start_time": "2022-10-09T19:45:21.558Z"
   },
   {
    "duration": 10,
    "start_time": "2022-10-09T20:34:34.014Z"
   },
   {
    "duration": 9,
    "start_time": "2022-10-09T20:35:53.431Z"
   },
   {
    "duration": 483,
    "start_time": "2022-10-09T20:36:19.514Z"
   },
   {
    "duration": 24,
    "start_time": "2022-10-09T20:36:19.999Z"
   },
   {
    "duration": 15,
    "start_time": "2022-10-09T20:36:20.024Z"
   },
   {
    "duration": 10,
    "start_time": "2022-10-09T20:36:20.041Z"
   },
   {
    "duration": 33,
    "start_time": "2022-10-09T20:36:20.052Z"
   },
   {
    "duration": 3,
    "start_time": "2022-10-09T20:36:20.087Z"
   },
   {
    "duration": 10,
    "start_time": "2022-10-09T20:36:20.091Z"
   },
   {
    "duration": 4,
    "start_time": "2022-10-09T20:36:20.102Z"
   },
   {
    "duration": 31,
    "start_time": "2022-10-09T20:36:20.107Z"
   },
   {
    "duration": 3,
    "start_time": "2022-10-09T20:36:20.140Z"
   },
   {
    "duration": 38,
    "start_time": "2022-10-09T20:36:20.144Z"
   },
   {
    "duration": 8,
    "start_time": "2022-10-09T20:36:20.184Z"
   },
   {
    "duration": 7,
    "start_time": "2022-10-09T20:36:20.194Z"
   },
   {
    "duration": 12,
    "start_time": "2022-10-09T20:36:20.202Z"
   },
   {
    "duration": 35,
    "start_time": "2022-10-09T20:36:20.215Z"
   },
   {
    "duration": 15,
    "start_time": "2022-10-09T20:36:20.251Z"
   },
   {
    "duration": 3,
    "start_time": "2022-10-09T20:36:20.267Z"
   },
   {
    "duration": 11,
    "start_time": "2022-10-09T20:36:20.271Z"
   },
   {
    "duration": 5,
    "start_time": "2022-10-09T20:36:20.284Z"
   },
   {
    "duration": 4,
    "start_time": "2022-10-09T20:36:20.290Z"
   },
   {
    "duration": 10,
    "start_time": "2022-10-09T20:36:20.295Z"
   },
   {
    "duration": 21,
    "start_time": "2022-10-09T20:36:20.333Z"
   },
   {
    "duration": 19,
    "start_time": "2022-10-09T20:36:20.355Z"
   },
   {
    "duration": 13,
    "start_time": "2022-10-09T20:36:20.375Z"
   },
   {
    "duration": 12,
    "start_time": "2022-10-09T20:36:20.390Z"
   },
   {
    "duration": 30,
    "start_time": "2022-10-09T20:36:20.403Z"
   },
   {
    "duration": 17,
    "start_time": "2022-10-09T20:44:18.140Z"
   },
   {
    "duration": 13,
    "start_time": "2022-10-09T20:47:47.669Z"
   },
   {
    "duration": 21,
    "start_time": "2022-10-09T20:47:56.365Z"
   },
   {
    "duration": 18,
    "start_time": "2022-10-09T20:48:58.777Z"
   },
   {
    "duration": 14,
    "start_time": "2022-10-09T20:49:10.953Z"
   },
   {
    "duration": 12,
    "start_time": "2022-10-09T20:51:00.710Z"
   },
   {
    "duration": 13,
    "start_time": "2022-10-09T20:51:08.088Z"
   },
   {
    "duration": 13,
    "start_time": "2022-10-09T20:53:15.344Z"
   },
   {
    "duration": 13,
    "start_time": "2022-10-09T20:55:43.285Z"
   },
   {
    "duration": 12,
    "start_time": "2022-10-09T20:56:14.685Z"
   },
   {
    "duration": 6,
    "start_time": "2022-10-09T21:04:18.072Z"
   },
   {
    "duration": 9,
    "start_time": "2022-10-09T21:04:48.263Z"
   },
   {
    "duration": 59,
    "start_time": "2022-10-09T21:15:04.647Z"
   },
   {
    "duration": 458,
    "start_time": "2022-10-09T21:15:38.056Z"
   },
   {
    "duration": 21,
    "start_time": "2022-10-09T21:15:38.516Z"
   },
   {
    "duration": 14,
    "start_time": "2022-10-09T21:15:38.538Z"
   },
   {
    "duration": 9,
    "start_time": "2022-10-09T21:15:38.554Z"
   },
   {
    "duration": 32,
    "start_time": "2022-10-09T21:15:38.564Z"
   },
   {
    "duration": 3,
    "start_time": "2022-10-09T21:15:38.597Z"
   },
   {
    "duration": 10,
    "start_time": "2022-10-09T21:15:38.602Z"
   },
   {
    "duration": 23,
    "start_time": "2022-10-09T21:15:38.613Z"
   },
   {
    "duration": 10,
    "start_time": "2022-10-09T21:15:38.637Z"
   },
   {
    "duration": 5,
    "start_time": "2022-10-09T21:15:38.649Z"
   },
   {
    "duration": 33,
    "start_time": "2022-10-09T21:15:38.655Z"
   },
   {
    "duration": 10,
    "start_time": "2022-10-09T21:15:38.690Z"
   },
   {
    "duration": 34,
    "start_time": "2022-10-09T21:15:38.701Z"
   },
   {
    "duration": 14,
    "start_time": "2022-10-09T21:15:38.737Z"
   },
   {
    "duration": 20,
    "start_time": "2022-10-09T21:15:38.753Z"
   },
   {
    "duration": 20,
    "start_time": "2022-10-09T21:15:38.775Z"
   },
   {
    "duration": 3,
    "start_time": "2022-10-09T21:15:38.797Z"
   },
   {
    "duration": 38,
    "start_time": "2022-10-09T21:15:38.802Z"
   },
   {
    "duration": 6,
    "start_time": "2022-10-09T21:15:38.841Z"
   },
   {
    "duration": 3,
    "start_time": "2022-10-09T21:15:38.848Z"
   },
   {
    "duration": 11,
    "start_time": "2022-10-09T21:15:38.852Z"
   },
   {
    "duration": 22,
    "start_time": "2022-10-09T21:15:38.864Z"
   },
   {
    "duration": 18,
    "start_time": "2022-10-09T21:15:38.887Z"
   },
   {
    "duration": 40,
    "start_time": "2022-10-09T21:15:38.906Z"
   },
   {
    "duration": 10,
    "start_time": "2022-10-09T21:15:38.948Z"
   },
   {
    "duration": 12,
    "start_time": "2022-10-09T21:15:38.959Z"
   },
   {
    "duration": 23,
    "start_time": "2022-10-09T21:15:38.972Z"
   },
   {
    "duration": 70,
    "start_time": "2022-10-09T21:15:38.999Z"
   },
   {
    "duration": 0,
    "start_time": "2022-10-09T21:15:39.071Z"
   },
   {
    "duration": 8,
    "start_time": "2022-10-09T21:16:04.019Z"
   },
   {
    "duration": 68,
    "start_time": "2022-10-09T21:16:17.859Z"
   },
   {
    "duration": 15,
    "start_time": "2022-10-09T21:16:21.294Z"
   },
   {
    "duration": 22,
    "start_time": "2022-10-09T21:16:26.179Z"
   },
   {
    "duration": 7,
    "start_time": "2022-10-09T21:16:40.113Z"
   },
   {
    "duration": 18,
    "start_time": "2022-10-09T21:16:49.932Z"
   },
   {
    "duration": 5,
    "start_time": "2022-10-09T21:18:23.542Z"
   },
   {
    "duration": 10,
    "start_time": "2022-10-09T21:48:52.727Z"
   },
   {
    "duration": 11,
    "start_time": "2022-10-09T21:49:13.224Z"
   },
   {
    "duration": 15,
    "start_time": "2022-10-09T21:50:16.368Z"
   },
   {
    "duration": 18,
    "start_time": "2022-10-09T21:51:07.036Z"
   },
   {
    "duration": 17,
    "start_time": "2022-10-09T21:52:18.226Z"
   },
   {
    "duration": 21,
    "start_time": "2022-10-09T21:52:25.523Z"
   },
   {
    "duration": 682,
    "start_time": "2022-10-10T07:25:43.939Z"
   },
   {
    "duration": 19,
    "start_time": "2022-10-10T07:25:44.623Z"
   },
   {
    "duration": 13,
    "start_time": "2022-10-10T07:25:44.644Z"
   },
   {
    "duration": 8,
    "start_time": "2022-10-10T07:25:44.658Z"
   },
   {
    "duration": 32,
    "start_time": "2022-10-10T07:25:44.668Z"
   },
   {
    "duration": 9,
    "start_time": "2022-10-10T07:25:44.701Z"
   },
   {
    "duration": 9,
    "start_time": "2022-10-10T07:25:44.711Z"
   },
   {
    "duration": 4,
    "start_time": "2022-10-10T07:25:44.722Z"
   },
   {
    "duration": 10,
    "start_time": "2022-10-10T07:25:44.727Z"
   },
   {
    "duration": 3,
    "start_time": "2022-10-10T07:25:44.738Z"
   },
   {
    "duration": 34,
    "start_time": "2022-10-10T07:25:44.742Z"
   },
   {
    "duration": 32,
    "start_time": "2022-10-10T07:25:44.777Z"
   },
   {
    "duration": 4,
    "start_time": "2022-10-10T07:25:44.811Z"
   },
   {
    "duration": 10,
    "start_time": "2022-10-10T07:25:44.818Z"
   },
   {
    "duration": 20,
    "start_time": "2022-10-10T07:25:44.830Z"
   },
   {
    "duration": 17,
    "start_time": "2022-10-10T07:25:44.851Z"
   },
   {
    "duration": 4,
    "start_time": "2022-10-10T07:25:44.869Z"
   },
   {
    "duration": 38,
    "start_time": "2022-10-10T07:25:44.874Z"
   },
   {
    "duration": 7,
    "start_time": "2022-10-10T07:25:44.914Z"
   },
   {
    "duration": 4,
    "start_time": "2022-10-10T07:25:44.923Z"
   },
   {
    "duration": 11,
    "start_time": "2022-10-10T07:25:44.928Z"
   },
   {
    "duration": 21,
    "start_time": "2022-10-10T07:25:44.940Z"
   },
   {
    "duration": 17,
    "start_time": "2022-10-10T07:25:44.962Z"
   },
   {
    "duration": 40,
    "start_time": "2022-10-10T07:25:44.981Z"
   },
   {
    "duration": 14,
    "start_time": "2022-10-10T07:25:45.023Z"
   },
   {
    "duration": 10,
    "start_time": "2022-10-10T07:25:45.038Z"
   },
   {
    "duration": 12,
    "start_time": "2022-10-10T07:25:45.049Z"
   },
   {
    "duration": 89,
    "start_time": "2022-10-10T07:25:45.062Z"
   },
   {
    "duration": 0,
    "start_time": "2022-10-10T07:25:45.152Z"
   },
   {
    "duration": 0,
    "start_time": "2022-10-10T07:25:45.153Z"
   },
   {
    "duration": 0,
    "start_time": "2022-10-10T07:25:45.154Z"
   },
   {
    "duration": 6,
    "start_time": "2022-10-10T07:28:44.586Z"
   },
   {
    "duration": 69,
    "start_time": "2022-10-10T07:28:53.370Z"
   },
   {
    "duration": 6,
    "start_time": "2022-10-10T07:29:00.310Z"
   },
   {
    "duration": 14,
    "start_time": "2022-10-10T07:29:46.046Z"
   },
   {
    "duration": 8,
    "start_time": "2022-10-10T07:29:55.155Z"
   },
   {
    "duration": 21,
    "start_time": "2022-10-10T07:29:58.540Z"
   },
   {
    "duration": 20,
    "start_time": "2022-10-10T07:33:14.535Z"
   },
   {
    "duration": 10,
    "start_time": "2022-10-10T07:44:20.692Z"
   },
   {
    "duration": 8,
    "start_time": "2022-10-10T07:46:30.586Z"
   },
   {
    "duration": 7,
    "start_time": "2022-10-10T07:46:53.220Z"
   },
   {
    "duration": 456,
    "start_time": "2022-10-10T07:47:07.150Z"
   },
   {
    "duration": 22,
    "start_time": "2022-10-10T07:47:07.608Z"
   },
   {
    "duration": 15,
    "start_time": "2022-10-10T07:47:07.632Z"
   },
   {
    "duration": 9,
    "start_time": "2022-10-10T07:47:07.649Z"
   },
   {
    "duration": 59,
    "start_time": "2022-10-10T07:47:07.661Z"
   },
   {
    "duration": 3,
    "start_time": "2022-10-10T07:47:07.722Z"
   },
   {
    "duration": 10,
    "start_time": "2022-10-10T07:47:07.726Z"
   },
   {
    "duration": 5,
    "start_time": "2022-10-10T07:47:07.737Z"
   },
   {
    "duration": 11,
    "start_time": "2022-10-10T07:47:07.743Z"
   },
   {
    "duration": 4,
    "start_time": "2022-10-10T07:47:07.755Z"
   },
   {
    "duration": 52,
    "start_time": "2022-10-10T07:47:07.760Z"
   },
   {
    "duration": 8,
    "start_time": "2022-10-10T07:47:07.814Z"
   },
   {
    "duration": 3,
    "start_time": "2022-10-10T07:47:07.824Z"
   },
   {
    "duration": 18,
    "start_time": "2022-10-10T07:47:07.829Z"
   },
   {
    "duration": 24,
    "start_time": "2022-10-10T07:47:07.849Z"
   },
   {
    "duration": 35,
    "start_time": "2022-10-10T07:47:07.875Z"
   },
   {
    "duration": 4,
    "start_time": "2022-10-10T07:47:07.911Z"
   },
   {
    "duration": 14,
    "start_time": "2022-10-10T07:47:07.916Z"
   },
   {
    "duration": 8,
    "start_time": "2022-10-10T07:47:07.931Z"
   },
   {
    "duration": 3,
    "start_time": "2022-10-10T07:47:07.940Z"
   },
   {
    "duration": 12,
    "start_time": "2022-10-10T07:47:07.944Z"
   },
   {
    "duration": 21,
    "start_time": "2022-10-10T07:47:07.958Z"
   },
   {
    "duration": 43,
    "start_time": "2022-10-10T07:47:07.980Z"
   },
   {
    "duration": 14,
    "start_time": "2022-10-10T07:47:08.024Z"
   },
   {
    "duration": 12,
    "start_time": "2022-10-10T07:47:08.039Z"
   },
   {
    "duration": 10,
    "start_time": "2022-10-10T07:47:08.052Z"
   },
   {
    "duration": 13,
    "start_time": "2022-10-10T07:47:08.064Z"
   },
   {
    "duration": 91,
    "start_time": "2022-10-10T07:47:08.079Z"
   },
   {
    "duration": 0,
    "start_time": "2022-10-10T07:47:08.172Z"
   },
   {
    "duration": 0,
    "start_time": "2022-10-10T07:47:08.173Z"
   },
   {
    "duration": 7,
    "start_time": "2022-10-10T07:47:11.787Z"
   },
   {
    "duration": 65,
    "start_time": "2022-10-10T07:47:19.307Z"
   },
   {
    "duration": 4,
    "start_time": "2022-10-10T07:47:55.502Z"
   },
   {
    "duration": 9,
    "start_time": "2022-10-10T07:48:13.984Z"
   },
   {
    "duration": 458,
    "start_time": "2022-10-10T07:48:32.316Z"
   },
   {
    "duration": 22,
    "start_time": "2022-10-10T07:48:32.776Z"
   },
   {
    "duration": 13,
    "start_time": "2022-10-10T07:48:32.799Z"
   },
   {
    "duration": 9,
    "start_time": "2022-10-10T07:48:32.814Z"
   },
   {
    "duration": 30,
    "start_time": "2022-10-10T07:48:32.825Z"
   },
   {
    "duration": 3,
    "start_time": "2022-10-10T07:48:32.856Z"
   },
   {
    "duration": 10,
    "start_time": "2022-10-10T07:48:32.861Z"
   },
   {
    "duration": 5,
    "start_time": "2022-10-10T07:48:32.872Z"
   },
   {
    "duration": 9,
    "start_time": "2022-10-10T07:48:32.878Z"
   },
   {
    "duration": 5,
    "start_time": "2022-10-10T07:48:32.908Z"
   },
   {
    "duration": 37,
    "start_time": "2022-10-10T07:48:32.914Z"
   },
   {
    "duration": 8,
    "start_time": "2022-10-10T07:48:32.953Z"
   },
   {
    "duration": 8,
    "start_time": "2022-10-10T07:48:32.962Z"
   },
   {
    "duration": 14,
    "start_time": "2022-10-10T07:48:32.971Z"
   },
   {
    "duration": 33,
    "start_time": "2022-10-10T07:48:32.986Z"
   },
   {
    "duration": 15,
    "start_time": "2022-10-10T07:48:33.021Z"
   },
   {
    "duration": 3,
    "start_time": "2022-10-10T07:48:33.038Z"
   },
   {
    "duration": 13,
    "start_time": "2022-10-10T07:48:33.042Z"
   },
   {
    "duration": 5,
    "start_time": "2022-10-10T07:48:33.056Z"
   },
   {
    "duration": 3,
    "start_time": "2022-10-10T07:48:33.062Z"
   },
   {
    "duration": 16,
    "start_time": "2022-10-10T07:48:33.067Z"
   },
   {
    "duration": 43,
    "start_time": "2022-10-10T07:48:33.084Z"
   },
   {
    "duration": 17,
    "start_time": "2022-10-10T07:48:33.128Z"
   },
   {
    "duration": 13,
    "start_time": "2022-10-10T07:48:33.147Z"
   },
   {
    "duration": 12,
    "start_time": "2022-10-10T07:48:33.162Z"
   },
   {
    "duration": 40,
    "start_time": "2022-10-10T07:48:33.175Z"
   },
   {
    "duration": 11,
    "start_time": "2022-10-10T07:48:33.216Z"
   },
   {
    "duration": 96,
    "start_time": "2022-10-10T07:48:33.230Z"
   },
   {
    "duration": 0,
    "start_time": "2022-10-10T07:48:33.327Z"
   },
   {
    "duration": 0,
    "start_time": "2022-10-10T07:48:33.328Z"
   },
   {
    "duration": 6,
    "start_time": "2022-10-10T07:48:42.398Z"
   },
   {
    "duration": 65,
    "start_time": "2022-10-10T07:48:50.549Z"
   },
   {
    "duration": 6,
    "start_time": "2022-10-10T07:48:57.135Z"
   },
   {
    "duration": 15,
    "start_time": "2022-10-10T07:49:01.846Z"
   },
   {
    "duration": 9,
    "start_time": "2022-10-10T07:49:09.177Z"
   },
   {
    "duration": 18,
    "start_time": "2022-10-10T07:49:12.431Z"
   },
   {
    "duration": 19,
    "start_time": "2022-10-10T07:50:46.717Z"
   },
   {
    "duration": 10,
    "start_time": "2022-10-10T07:56:45.706Z"
   },
   {
    "duration": 10,
    "start_time": "2022-10-10T07:56:59.252Z"
   },
   {
    "duration": 29,
    "start_time": "2022-10-10T07:58:01.318Z"
   },
   {
    "duration": 4,
    "start_time": "2022-10-10T07:58:05.378Z"
   },
   {
    "duration": 7,
    "start_time": "2022-10-10T07:58:10.967Z"
   },
   {
    "duration": 6,
    "start_time": "2022-10-10T07:58:21.896Z"
   },
   {
    "duration": 5,
    "start_time": "2022-10-10T07:58:27.500Z"
   },
   {
    "duration": 47,
    "start_time": "2022-10-10T07:58:35.171Z"
   },
   {
    "duration": 10,
    "start_time": "2022-10-10T07:58:48.011Z"
   },
   {
    "duration": 9,
    "start_time": "2022-10-10T07:58:58.853Z"
   }
  ],
  "colab": {
   "name": "dpp_template_part2.ipynb",
   "provenance": []
  },
  "kernelspec": {
   "display_name": "Python 3 (ipykernel)",
   "language": "python",
   "name": "python3"
  },
  "language_info": {
   "codemirror_mode": {
    "name": "ipython",
    "version": 3
   },
   "file_extension": ".py",
   "mimetype": "text/x-python",
   "name": "python",
   "nbconvert_exporter": "python",
   "pygments_lexer": "ipython3",
   "version": "3.9.12"
  },
  "toc": {
   "base_numbering": 1,
   "nav_menu": {},
   "number_sections": true,
   "sideBar": true,
   "skip_h1_title": true,
   "title_cell": "Table of Contents",
   "title_sidebar": "Contents",
   "toc_cell": false,
   "toc_position": {},
   "toc_section_display": true,
   "toc_window_display": false
  }
 },
 "nbformat": 4,
 "nbformat_minor": 5
}
