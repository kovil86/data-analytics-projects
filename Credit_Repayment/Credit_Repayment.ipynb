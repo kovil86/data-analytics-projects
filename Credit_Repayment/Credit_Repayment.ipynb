{
 "cells": [
  {
   "cell_type": "markdown",
   "id": "07de645e",
   "metadata": {},
   "source": [
    "# Исследование надёжности заёмщиков\n",
    "\n",
    "## Заказчик:\n",
    "* Кредитный отдел банка\n",
    "\n",
    "## Цели применения исследования:\n",
    "* Результаты исследования будут учтены при построении модели кредитного скоринга — специальной системы, которая оценивает способность потенциального заёмщика вернуть кредит банку.\n",
    "\n",
    "## Задачи:\n",
    "* Изучить влияние семейного положения и количества детей клиента на факт погашения кредита в срок.\n",
    "\n",
    "## Данные:\n",
    "* В распоряжении статистика о платёжеспособности клиентов.\n",
    "\n",
    "<br>**Колонки:**\n",
    "\n",
    "<br>`children` — количество детей в семье\n",
    "<br>`days_employed` — общий трудовой стаж в днях\n",
    "<br>`dob_years` — возраст клиента в годах\n",
    "<br>`education` — уровень образования клиента\n",
    "<br>`education_id` — идентификатор уровня образования\n",
    "<br>`family_status` — семейное положение\n",
    "<br>`family_status_id` — идентификатор семейного положения\n",
    "<br>`gender` — пол клиента\n",
    "<br>`income_type` — тип занятости\n",
    "<br>`debt` — имел ли задолженность по возврату кредитов\n",
    "<br>`total_income` — ежемесячный доход\n",
    "<br>`purpose` — цель получения кредита\n"
   ]
  },
  {
   "cell_type": "markdown",
   "id": "9bc640cc",
   "metadata": {},
   "source": [
    "<a id='plan'></a>\n",
    "## План работы:\n",
    "1. [Открытие и изучение данных](#1)\n",
    "<br>1.1. [Импорт библиотек](#import)\n",
    "<br>1.2. [Открытие данных](#open)\n",
    "<br>1.3. [Изучение общей информации о данных](#info)\n",
    "<br>1.4. [Изучение аномалий](#anomaly)\n",
    "<br>1.5. [Выводы по изучению общей информации данных](#info_resum)\n",
    "\n",
    "\n",
    "2. [Предобработка данных](#preprocessing)\n",
    "<br>2.1. [Обработка типов данных](#type)\n",
    "<br>2.2. [Обработка дубликатов](#dupl)\n",
    "<br>2.3. [Обработка аномалий](#anomal)\n",
    "<br>2.4. [Обработка пропусков](#nan)\n",
    "<br>2.5. [Категоризация данных](#cat)\n",
    "<br>2.6. [Добавление новых столбцов](#new_col)\n",
    "<br>2.7. [Выводы по предобработке данных](#preprocessing_resume)\n",
    "\n",
    "\n",
    "3. [Исследовательский анализ данных (EDA)](#eda)\n",
    "<br>3.1. [Зависимость между количеством детей и возвратом кредита в срок.](#cor_child)\n",
    "<br>3.2. [Зависимость между семейным положением и возвратом кредита в срок.](#family_status)\n",
    "<br>3.3. [Зависимость между уровнем дохода и возвратом кредита в срок.](#income)\n",
    "<br>3.4. [Как разные цели кредита влияют на его возврат в срок.](#purpose)\n",
    "<br>3.5. [Выводы по исследовательскому анализу данных (EDA)](#eda_resume)\n",
    "\n",
    "\n",
    "4. [Выводы и рекомендации.](#total_resume)\n",
    "<br>4.1. [Общий вывод](#res)\n",
    "<br>4.2. [Рекомендации](#rec)"
   ]
  },
  {
   "cell_type": "markdown",
   "id": "dfb605ad",
   "metadata": {},
   "source": [
    "<a id='1'></a>\n",
    "# 1. Открытие и изучение данных. [^](#plan)\n",
    "<a id='import'></a>\n",
    "## 1.1. Импорт библиотек. [^](#plan)"
   ]
  },
  {
   "cell_type": "code",
   "execution_count": 1,
   "id": "42440ecb",
   "metadata": {},
   "outputs": [],
   "source": [
    "import pandas as pd # библиотека для работы с датасетами\n",
    "pd.set_option('display.max_columns', None) # Отображаем максимальное количество колонок\n",
    "pd.set_option('display.max_rows', None) # # Отображаем максимальное количество строк\n",
    "\n",
    "import numpy as np # библиотека для работы с многомерными массивами"
   ]
  },
  {
   "cell_type": "markdown",
   "id": "fa568ed1",
   "metadata": {},
   "source": [
    "<a id='open'></a>\n",
    "## 1.2. Открытие данных. [^](#plan)"
   ]
  },
  {
   "cell_type": "code",
   "execution_count": 2,
   "id": "d7922717",
   "metadata": {},
   "outputs": [],
   "source": [
    "# Чтение данных в датафрейм\n",
    "try:\n",
    "    # Пробуем прочитать датасет с GITHUB\n",
    "    csv_url = 'https://raw.githubusercontent.com/kovil86/data-analytics-projects/master/Credit_Repayment/data.csv'\n",
    "    data = pd.read_csv(csv_url, sep=',')\n",
    "except:\n",
    "    print('\\u001b[31m'+ '\\033[1m' + 'Не удалось загрузить датасет, попробуйте вручную.' + '\\033' + '\\u001b[0m')"
   ]
  },
  {
   "cell_type": "markdown",
   "id": "e8f96318",
   "metadata": {},
   "source": [
    "<a id='info'></a>\n",
    "## 1.3. Изучение общей информации о данных. [^](#plan)"
   ]
  },
  {
   "cell_type": "code",
   "execution_count": 3,
   "id": "6b571e22",
   "metadata": {},
   "outputs": [],
   "source": [
    "# Функция выводит на экран первые 5 строчек датасета,\n",
    "# основную информацию по датасету , количество пропусков в датасете.\n",
    "\n",
    "def research(data):\n",
    "    print('\\033[1m'+'ПЕРВЫЕ 5 СТРОЧЕК ДАТАСЕТА'+'\\033')\n",
    "    display(data.head(5)) # Смотрим первые 5 строчик датасета.\n",
    "    print('\\033[1m'+'ОСНОВНАЯ ИНФОРМАЦИЯ ДАТАСЕТА'+'\\033')\n",
    "    display(data.info(verbose=True)) # Выводим основную информацию о датасете"
   ]
  },
  {
   "cell_type": "code",
   "execution_count": 4,
   "id": "decd15f1",
   "metadata": {
    "scrolled": false
   },
   "outputs": [
    {
     "name": "stdout",
     "output_type": "stream",
     "text": [
      "\u001b[1mПЕРВЫЕ 5 СТРОЧЕК ДАТАСЕТА\u001b\n"
     ]
    },
    {
     "data": {
      "text/html": [
       "<div>\n",
       "<style scoped>\n",
       "    .dataframe tbody tr th:only-of-type {\n",
       "        vertical-align: middle;\n",
       "    }\n",
       "\n",
       "    .dataframe tbody tr th {\n",
       "        vertical-align: top;\n",
       "    }\n",
       "\n",
       "    .dataframe thead th {\n",
       "        text-align: right;\n",
       "    }\n",
       "</style>\n",
       "<table border=\"1\" class=\"dataframe\">\n",
       "  <thead>\n",
       "    <tr style=\"text-align: right;\">\n",
       "      <th></th>\n",
       "      <th>children</th>\n",
       "      <th>days_employed</th>\n",
       "      <th>dob_years</th>\n",
       "      <th>education</th>\n",
       "      <th>education_id</th>\n",
       "      <th>family_status</th>\n",
       "      <th>family_status_id</th>\n",
       "      <th>gender</th>\n",
       "      <th>income_type</th>\n",
       "      <th>debt</th>\n",
       "      <th>total_income</th>\n",
       "      <th>purpose</th>\n",
       "    </tr>\n",
       "  </thead>\n",
       "  <tbody>\n",
       "    <tr>\n",
       "      <th>0</th>\n",
       "      <td>1</td>\n",
       "      <td>-8437.673028</td>\n",
       "      <td>42</td>\n",
       "      <td>высшее</td>\n",
       "      <td>0</td>\n",
       "      <td>женат / замужем</td>\n",
       "      <td>0</td>\n",
       "      <td>F</td>\n",
       "      <td>сотрудник</td>\n",
       "      <td>0</td>\n",
       "      <td>253875.639453</td>\n",
       "      <td>покупка жилья</td>\n",
       "    </tr>\n",
       "    <tr>\n",
       "      <th>1</th>\n",
       "      <td>1</td>\n",
       "      <td>-4024.803754</td>\n",
       "      <td>36</td>\n",
       "      <td>среднее</td>\n",
       "      <td>1</td>\n",
       "      <td>женат / замужем</td>\n",
       "      <td>0</td>\n",
       "      <td>F</td>\n",
       "      <td>сотрудник</td>\n",
       "      <td>0</td>\n",
       "      <td>112080.014102</td>\n",
       "      <td>приобретение автомобиля</td>\n",
       "    </tr>\n",
       "    <tr>\n",
       "      <th>2</th>\n",
       "      <td>0</td>\n",
       "      <td>-5623.422610</td>\n",
       "      <td>33</td>\n",
       "      <td>Среднее</td>\n",
       "      <td>1</td>\n",
       "      <td>женат / замужем</td>\n",
       "      <td>0</td>\n",
       "      <td>M</td>\n",
       "      <td>сотрудник</td>\n",
       "      <td>0</td>\n",
       "      <td>145885.952297</td>\n",
       "      <td>покупка жилья</td>\n",
       "    </tr>\n",
       "    <tr>\n",
       "      <th>3</th>\n",
       "      <td>3</td>\n",
       "      <td>-4124.747207</td>\n",
       "      <td>32</td>\n",
       "      <td>среднее</td>\n",
       "      <td>1</td>\n",
       "      <td>женат / замужем</td>\n",
       "      <td>0</td>\n",
       "      <td>M</td>\n",
       "      <td>сотрудник</td>\n",
       "      <td>0</td>\n",
       "      <td>267628.550329</td>\n",
       "      <td>дополнительное образование</td>\n",
       "    </tr>\n",
       "    <tr>\n",
       "      <th>4</th>\n",
       "      <td>0</td>\n",
       "      <td>340266.072047</td>\n",
       "      <td>53</td>\n",
       "      <td>среднее</td>\n",
       "      <td>1</td>\n",
       "      <td>гражданский брак</td>\n",
       "      <td>1</td>\n",
       "      <td>F</td>\n",
       "      <td>пенсионер</td>\n",
       "      <td>0</td>\n",
       "      <td>158616.077870</td>\n",
       "      <td>сыграть свадьбу</td>\n",
       "    </tr>\n",
       "  </tbody>\n",
       "</table>\n",
       "</div>"
      ],
      "text/plain": [
       "   children  days_employed  dob_years education  education_id  \\\n",
       "0         1   -8437.673028         42    высшее             0   \n",
       "1         1   -4024.803754         36   среднее             1   \n",
       "2         0   -5623.422610         33   Среднее             1   \n",
       "3         3   -4124.747207         32   среднее             1   \n",
       "4         0  340266.072047         53   среднее             1   \n",
       "\n",
       "      family_status  family_status_id gender income_type  debt   total_income  \\\n",
       "0   женат / замужем                 0      F   сотрудник     0  253875.639453   \n",
       "1   женат / замужем                 0      F   сотрудник     0  112080.014102   \n",
       "2   женат / замужем                 0      M   сотрудник     0  145885.952297   \n",
       "3   женат / замужем                 0      M   сотрудник     0  267628.550329   \n",
       "4  гражданский брак                 1      F   пенсионер     0  158616.077870   \n",
       "\n",
       "                      purpose  \n",
       "0               покупка жилья  \n",
       "1     приобретение автомобиля  \n",
       "2               покупка жилья  \n",
       "3  дополнительное образование  \n",
       "4             сыграть свадьбу  "
      ]
     },
     "metadata": {},
     "output_type": "display_data"
    },
    {
     "name": "stdout",
     "output_type": "stream",
     "text": [
      "\u001b[1mОСНОВНАЯ ИНФОРМАЦИЯ ДАТАСЕТА\u001b\n",
      "<class 'pandas.core.frame.DataFrame'>\n",
      "RangeIndex: 21525 entries, 0 to 21524\n",
      "Data columns (total 12 columns):\n",
      " #   Column            Non-Null Count  Dtype  \n",
      "---  ------            --------------  -----  \n",
      " 0   children          21525 non-null  int64  \n",
      " 1   days_employed     19351 non-null  float64\n",
      " 2   dob_years         21525 non-null  int64  \n",
      " 3   education         21525 non-null  object \n",
      " 4   education_id      21525 non-null  int64  \n",
      " 5   family_status     21525 non-null  object \n",
      " 6   family_status_id  21525 non-null  int64  \n",
      " 7   gender            21525 non-null  object \n",
      " 8   income_type       21525 non-null  object \n",
      " 9   debt              21525 non-null  int64  \n",
      " 10  total_income      19351 non-null  float64\n",
      " 11  purpose           21525 non-null  object \n",
      "dtypes: float64(2), int64(5), object(5)\n",
      "memory usage: 2.0+ MB\n"
     ]
    },
    {
     "data": {
      "text/plain": [
       "None"
      ]
     },
     "metadata": {},
     "output_type": "display_data"
    }
   ],
   "source": [
    "research(data)"
   ]
  },
  {
   "cell_type": "markdown",
   "id": "a3a2f3ed",
   "metadata": {},
   "source": [
    "<a id='anomaly'></a>\n",
    "## 1.4. Изучение аномалий. [^](#plan)"
   ]
  },
  {
   "cell_type": "code",
   "execution_count": 5,
   "id": "844bc39f",
   "metadata": {},
   "outputs": [
    {
     "name": "stdout",
     "output_type": "stream",
     "text": [
      "Нулевых значений в 'total_income': 2174\n",
      "Доля нулевых значений в 'total_income': 10.1%.\n",
      "Нулевых значений в 'days_employed': 2174\n",
      "Доля нулевых значений в 'days_employed': 10.1%.\n"
     ]
    }
   ],
   "source": [
    "# Количество нулевых значений в 'total_income'\n",
    "count_null_total_income = data['total_income'].isna().sum()\n",
    "proportion_null_total_income = (count_null_total_income / 21525)\n",
    "print(f'Нулевых значений в \\'total_income\\': {count_null_total_income}')\n",
    "print(f'Доля нулевых значений в \\'total_income\\': {proportion_null_total_income:.1%}.')\n",
    "\n",
    "# Количество нулевых значений в 'days_employed'\n",
    "count_null_days_employed = data['days_employed'].isna().sum()\n",
    "proportion_null_days_employed = (count_null_days_employed / 21525)\n",
    "print(f'Нулевых значений в \\'days_employed\\': {count_null_days_employed}')\n",
    "print(f'Доля нулевых значений в \\'days_employed\\': {proportion_null_days_employed:.1%}.')\n"
   ]
  },
  {
   "cell_type": "markdown",
   "id": "3ab473f1",
   "metadata": {},
   "source": [
    "В столбцах `'total_income'` и `'days_employed'` обнаружены пропущенные значения.\n",
    "В каждом из них одинаковое количество пропущенных значений.\n",
    "Пропущенные значения составляют **10%** от всех значений в каждом столбце.\n",
    "\n",
    "**`Вероятно пропущенные значения находятся \"в паре\".`**"
   ]
  },
  {
   "cell_type": "code",
   "execution_count": 6,
   "id": "52ebebd3",
   "metadata": {},
   "outputs": [
    {
     "name": "stdout",
     "output_type": "stream",
     "text": [
      "children            2174\n",
      "days_employed          0\n",
      "dob_years           2174\n",
      "education           2174\n",
      "education_id        2174\n",
      "family_status       2174\n",
      "family_status_id    2174\n",
      "gender              2174\n",
      "income_type         2174\n",
      "debt                2174\n",
      "total_income           0\n",
      "purpose             2174\n",
      "dtype: int64\n"
     ]
    }
   ],
   "source": [
    "#Проверка \"парности\" пропущенных значений.\n",
    "#null_total_income = data[data['total_income'].isna() == True]\n",
    "#display(null_total_income)\n",
    "null_total_income_and_employed = data.loc[(data['total_income'].isna())&(data['days_employed'].isna())].count()\n",
    "print(null_total_income_and_employed)"
   ]
  },
  {
   "cell_type": "markdown",
   "id": "f44939b1",
   "metadata": {},
   "source": [
    "Из таблицы видно, что пропущенные значения находятся **`\"в паре\"`**.\n",
    "Можно предположить, что клиент не работает официально (не может предоставить документы о среднем заработке) или является частным предпринимателем. "
   ]
  },
  {
   "cell_type": "markdown",
   "id": "7a9d2438",
   "metadata": {},
   "source": [
    "<a id='info_resum'></a>\n",
    "## 1.5. Выводы по изучению общей информации данных. [^](#plan)"
   ]
  },
  {
   "cell_type": "markdown",
   "id": "26445d7f",
   "metadata": {},
   "source": [
    "##### Из общей информации датафрейма мы видим:\n",
    "* Всего 21525 строк, 12 колонок\n",
    "* Пропуски есть в столбцах `'days_employed'` и `'total_income'`. Пропуски вероятней всего связаны с тем, что некоторые люди работают не официально (не могут предоставить документы о среднем заработке) или являются частными предпринимателями.\n",
    "* Некоторые значения в столбце `'days_employed'` имеют знак `'минус'`. Необходимо разобраться с чем это связано.\n",
    "* Значения в столбце `'education'` бывают в разном регистре. Необходимо привести в один формат."
   ]
  },
  {
   "cell_type": "markdown",
   "id": "cbc68376",
   "metadata": {},
   "source": [
    "<a id='preprocessing'></a>\n",
    "# 2. Предобработка данных. [^](#plan)\n",
    "<a id='type'></a>\n",
    "## 2.1. Обработка типов данных. [^](#plan)"
   ]
  },
  {
   "cell_type": "code",
   "execution_count": 7,
   "id": "af11f539",
   "metadata": {
    "scrolled": true
   },
   "outputs": [],
   "source": [
    "# Заменим тип данных в столбце 'days_employed' на int, т.к. стаж не может быть дробным числом.\n",
    "# Предварительно заменим значения NaN на 0\n",
    "data['days_employed'] = data['days_employed'].fillna(value=0)\n",
    "data['days_employed'] = data['days_employed'].astype('int')\n",
    "\n",
    "# Заменим тип данных  в столбце 'total_income' на int.\n",
    "data['total_income'] = data['total_income'].fillna(value=0)\n",
    "data['total_income'] = data['total_income'].astype('int')"
   ]
  },
  {
   "cell_type": "markdown",
   "id": "d7dada6e",
   "metadata": {},
   "source": [
    "<a id='dupl'></a>\n",
    "## 2.2. Обработка дубликатов. [^](#plan)"
   ]
  },
  {
   "cell_type": "code",
   "execution_count": 8,
   "id": "6c6f47b2",
   "metadata": {},
   "outputs": [],
   "source": [
    "# Приведем все значения в столбце 'education' в нижний регистр.\n",
    "data['education'] = data['education'].str.lower()"
   ]
  },
  {
   "cell_type": "code",
   "execution_count": 9,
   "id": "52b0279a",
   "metadata": {},
   "outputs": [
    {
     "data": {
      "text/plain": [
       "71"
      ]
     },
     "execution_count": 9,
     "metadata": {},
     "output_type": "execute_result"
    }
   ],
   "source": [
    "# Посмотрим количество явных дубликатов\n",
    "data.duplicated().sum()"
   ]
  },
  {
   "cell_type": "code",
   "execution_count": 10,
   "id": "bcf0c987",
   "metadata": {},
   "outputs": [],
   "source": [
    "# Удаляем явные дубликаты\n",
    "data = data.drop_duplicates()"
   ]
  },
  {
   "cell_type": "markdown",
   "id": "06f390f0",
   "metadata": {},
   "source": [
    "<a id='anomal'></a>\n",
    "## 2.3. Обработка аномалий. [^](#plan)"
   ]
  },
  {
   "cell_type": "code",
   "execution_count": 11,
   "id": "ba25d99a",
   "metadata": {},
   "outputs": [],
   "source": [
    "# Заменим аномальные отрицательные значения в столбце 'days_employed' на положительные.\n",
    "data['days_employed'] = abs(data['days_employed'])"
   ]
  },
  {
   "cell_type": "code",
   "execution_count": 12,
   "id": "e35de8ea",
   "metadata": {},
   "outputs": [
    {
     "data": {
      "text/plain": [
       "income_type\n",
       "безработный        366413.0\n",
       "в декрете            3296.0\n",
       "госслужащий          2389.0\n",
       "компаньон            1314.0\n",
       "пенсионер          360775.0\n",
       "предприниматель       260.0\n",
       "сотрудник            1366.0\n",
       "студент               578.0\n",
       "Name: days_employed, dtype: float64"
      ]
     },
     "execution_count": 12,
     "metadata": {},
     "output_type": "execute_result"
    }
   ],
   "source": [
    "# Посмотрим медианные значения трудового стажа по типу занятости.\n",
    "data.groupby('income_type')['days_employed'].median()"
   ]
  },
  {
   "cell_type": "markdown",
   "id": "3342bdcf",
   "metadata": {},
   "source": [
    "**У двух типов (безработные и пенсионеры) получатся аномально большие значения. Исправить такие значения сложно, поэтому оставим их как есть.**"
   ]
  },
  {
   "cell_type": "code",
   "execution_count": 13,
   "id": "2e1dc408",
   "metadata": {},
   "outputs": [
    {
     "data": {
      "text/plain": [
       "array([ 1,  0,  3,  2, -1,  4, 20,  5], dtype=int64)"
      ]
     },
     "execution_count": 13,
     "metadata": {},
     "output_type": "execute_result"
    }
   ],
   "source": [
    "# Посмотрим уникальные значения в столбце'children' \n",
    "data['children'].unique()"
   ]
  },
  {
   "cell_type": "markdown",
   "id": "63ad2d57",
   "metadata": {},
   "source": [
    "**Видим два аномальных значения: `-1` и `20`. Если таких записей немного, удалим их.**"
   ]
  },
  {
   "cell_type": "code",
   "execution_count": 14,
   "id": "4998fa36",
   "metadata": {},
   "outputs": [
    {
     "data": {
      "text/plain": [
       "123"
      ]
     },
     "execution_count": 14,
     "metadata": {},
     "output_type": "execute_result"
    }
   ],
   "source": [
    "data.loc[(data.children == -1)| (data.children == 20)]['children'].count()"
   ]
  },
  {
   "cell_type": "code",
   "execution_count": 15,
   "id": "3ac612e6",
   "metadata": {},
   "outputs": [],
   "source": [
    "# Удаляем эти 123 аномальные записи\n",
    "data = data.loc[(data.children != -1)& (data.children != 20)]"
   ]
  },
  {
   "cell_type": "markdown",
   "id": "4c979933",
   "metadata": {},
   "source": [
    "<a id='nan'></a>\n",
    "## 2.4. Обработка пропусков. [^](#plan)"
   ]
  },
  {
   "cell_type": "code",
   "execution_count": 16,
   "id": "d272eccd",
   "metadata": {},
   "outputs": [],
   "source": [
    "# Заполним пропуски в столбце 'total_income' медианным значением по типу занятости.\n",
    "for type in data['income_type'].unique():\n",
    "    median = data.loc[data['income_type'] == type, 'total_income'].median()\n",
    "    data.loc[(data['total_income'].isna()) & (data['income_type'] == type), 'total_income'] = median"
   ]
  },
  {
   "cell_type": "markdown",
   "id": "997e1e6f",
   "metadata": {},
   "source": [
    "<a id='cat'></a>\n",
    "## 2.5. Категоризация данных. [^](#plan)"
   ]
  },
  {
   "cell_type": "markdown",
   "id": "9a4a4b55",
   "metadata": {},
   "source": [
    "**По требованию заказчика, на основании диапазонов дохода, указанных ниже, необходимо разбить клиентов на категории:**\n",
    "\n",
    "- 0–30000 — `'E'`\n",
    "- 30001–50000 — `'D'`\n",
    "- 50001–200000 — `'C'`\n",
    "- 200001–1000000 — `'B'`\n",
    "- 1000001 и выше — `'A'`"
   ]
  },
  {
   "cell_type": "code",
   "execution_count": 17,
   "id": "f08ee59a",
   "metadata": {},
   "outputs": [],
   "source": [
    "# Создадим функцию categorize_income() для присвоения категории.\n",
    "def categorize_income(data):\n",
    "    if data < 30001:\n",
    "        return 'E'\n",
    "    if 30000 < data < 50001:\n",
    "        return 'D'\n",
    "    if 50000 < data < 200001:\n",
    "        return 'C'\n",
    "    if 200000 < data < 1000001:\n",
    "        return 'B'\n",
    "    if data > 1000000:\n",
    "        return 'A'"
   ]
  },
  {
   "cell_type": "markdown",
   "id": "7f002cc3",
   "metadata": {},
   "source": [
    "**По требованию заказчика, на основании данных из столбца `porpose`, необходимо присвоить категории целей кредита:**\n",
    "- `'операции с автомобилем'`,\n",
    "- `'операции с недвижимостью'`,\n",
    "- `'проведение свадьбы'`,\n",
    "- `'получение образования'`."
   ]
  },
  {
   "cell_type": "code",
   "execution_count": 18,
   "id": "5409690c",
   "metadata": {},
   "outputs": [
    {
     "data": {
      "text/plain": [
       "array(['покупка жилья', 'приобретение автомобиля',\n",
       "       'дополнительное образование', 'сыграть свадьбу',\n",
       "       'операции с жильем', 'образование', 'на проведение свадьбы',\n",
       "       'покупка жилья для семьи', 'покупка недвижимости',\n",
       "       'покупка коммерческой недвижимости', 'покупка жилой недвижимости',\n",
       "       'строительство собственной недвижимости', 'недвижимость',\n",
       "       'строительство недвижимости', 'на покупку подержанного автомобиля',\n",
       "       'на покупку своего автомобиля',\n",
       "       'операции с коммерческой недвижимостью',\n",
       "       'строительство жилой недвижимости', 'жилье',\n",
       "       'операции со своей недвижимостью', 'автомобили',\n",
       "       'заняться образованием', 'сделка с подержанным автомобилем',\n",
       "       'получение образования', 'автомобиль', 'свадьба',\n",
       "       'получение дополнительного образования', 'покупка своего жилья',\n",
       "       'операции с недвижимостью', 'получение высшего образования',\n",
       "       'свой автомобиль', 'сделка с автомобилем',\n",
       "       'профильное образование', 'высшее образование',\n",
       "       'покупка жилья для сдачи', 'на покупку автомобиля', 'ремонт жилью',\n",
       "       'заняться высшим образованием'], dtype=object)"
      ]
     },
     "execution_count": 18,
     "metadata": {},
     "output_type": "execute_result"
    }
   ],
   "source": [
    "# Посмотрим уникальные значения в столбце цели получения кредита\n",
    "data['purpose'].unique()"
   ]
  },
  {
   "cell_type": "code",
   "execution_count": 19,
   "id": "64839e1d",
   "metadata": {},
   "outputs": [],
   "source": [
    "# Cоздадим функцию categorize_purpose() для присваивания категории цели кредита.\n",
    "def categorize_purpose(data):\n",
    "    if 'авто' in data:\n",
    "        return 'операции с автомобилем'\n",
    "    if 'жиль' in data or 'недвиж' in data:\n",
    "        return 'операции с недвижимостью'\n",
    "    if 'образ' in data:\n",
    "        return 'получение образования'\n",
    "    if 'свадь' in data:\n",
    "        return 'проведение свадьбы'"
   ]
  },
  {
   "cell_type": "markdown",
   "id": "5e26eda1",
   "metadata": {},
   "source": [
    "<a id='new_col'></a>\n",
    "## 2.6. Добавление новых столбцов. [^](#plan)"
   ]
  },
  {
   "cell_type": "code",
   "execution_count": 20,
   "id": "fc25532a",
   "metadata": {},
   "outputs": [],
   "source": [
    "# Создадим новый столбец с категорией клиента\n",
    "data['total_income_category'] = data['total_income'].apply(categorize_income)"
   ]
  },
  {
   "cell_type": "code",
   "execution_count": 21,
   "id": "a794ec79",
   "metadata": {},
   "outputs": [],
   "source": [
    "# Создадим новый столбец с категорией цели кредита\n",
    "data['purpose_category'] = data['purpose'].apply(categorize_purpose)"
   ]
  },
  {
   "cell_type": "markdown",
   "id": "2a452f41",
   "metadata": {},
   "source": [
    "<a id='preprocessing_resume'></a>\n",
    "## 2.7. Выводы по предобработке данных. [^](#plan)"
   ]
  },
  {
   "cell_type": "markdown",
   "id": "afffd548",
   "metadata": {},
   "source": [
    "* Заменили тыпы данных в столбцах `'days_employed'` и `'total_income'` на int\n",
    "* Удалили 71 явный дубликат\n",
    "* Заменили аномальные отрицательные значения в столбце `'days_employed'` на положительные значения\n",
    "* Обнаружили аномально большие значения в столбце `'invome_type'` для безработных и пенсионеров. Исправить такие значения не имеется возможным, поэтому оставил все как есть, тем более данный столбец будет не нужен для дальнейшего исследования.\n",
    "* Обнаружили и удалили 123 записи с аномальными значениями количества детей.\n",
    "* Заполнили пропуски в столбце `'total_income'` медианным значением по типу занятости.\n",
    "* Создали новые столбцы с категориями клиентов и категориями цели кредита, согласно заданию заказчика."
   ]
  },
  {
   "cell_type": "markdown",
   "id": "7738fdbc",
   "metadata": {},
   "source": [
    "<a id='eda'></a>\n",
    "# 3. Исследовательский анализ данных (EDA). [^](#plan)"
   ]
  },
  {
   "cell_type": "markdown",
   "id": "92d62f48",
   "metadata": {},
   "source": [
    "<a id='cor_child'></a>\n",
    "## 3.1. Зависимость между количеством детей и возвратом кредита в срок. [^](#plan)"
   ]
  },
  {
   "cell_type": "code",
   "execution_count": 22,
   "id": "58e2d46f",
   "metadata": {},
   "outputs": [
    {
     "data": {
      "text/html": [
       "<div>\n",
       "<style scoped>\n",
       "    .dataframe tbody tr th:only-of-type {\n",
       "        vertical-align: middle;\n",
       "    }\n",
       "\n",
       "    .dataframe tbody tr th {\n",
       "        vertical-align: top;\n",
       "    }\n",
       "\n",
       "    .dataframe thead th {\n",
       "        text-align: right;\n",
       "    }\n",
       "</style>\n",
       "<table border=\"1\" class=\"dataframe\">\n",
       "  <thead>\n",
       "    <tr style=\"text-align: right;\">\n",
       "      <th></th>\n",
       "      <th>count</th>\n",
       "      <th>sum</th>\n",
       "      <th>my_mean</th>\n",
       "    </tr>\n",
       "    <tr>\n",
       "      <th>children</th>\n",
       "      <th></th>\n",
       "      <th></th>\n",
       "      <th></th>\n",
       "    </tr>\n",
       "  </thead>\n",
       "  <tbody>\n",
       "    <tr>\n",
       "      <th>0</th>\n",
       "      <td>14091</td>\n",
       "      <td>1063</td>\n",
       "      <td>7.54%</td>\n",
       "    </tr>\n",
       "    <tr>\n",
       "      <th>1</th>\n",
       "      <td>4808</td>\n",
       "      <td>444</td>\n",
       "      <td>9.23%</td>\n",
       "    </tr>\n",
       "    <tr>\n",
       "      <th>2</th>\n",
       "      <td>2052</td>\n",
       "      <td>194</td>\n",
       "      <td>9.45%</td>\n",
       "    </tr>\n",
       "    <tr>\n",
       "      <th>3</th>\n",
       "      <td>330</td>\n",
       "      <td>27</td>\n",
       "      <td>8.18%</td>\n",
       "    </tr>\n",
       "    <tr>\n",
       "      <th>4</th>\n",
       "      <td>41</td>\n",
       "      <td>4</td>\n",
       "      <td>9.76%</td>\n",
       "    </tr>\n",
       "    <tr>\n",
       "      <th>5</th>\n",
       "      <td>9</td>\n",
       "      <td>0</td>\n",
       "      <td>0.00%</td>\n",
       "    </tr>\n",
       "  </tbody>\n",
       "</table>\n",
       "</div>"
      ],
      "text/plain": [
       "          count   sum my_mean\n",
       "children                     \n",
       "0         14091  1063  7.54% \n",
       "1          4808   444  9.23% \n",
       "2          2052   194  9.45% \n",
       "3           330    27  8.18% \n",
       "4            41     4  9.76% \n",
       "5             9     0  0.00% "
      ]
     },
     "execution_count": 22,
     "metadata": {},
     "output_type": "execute_result"
    }
   ],
   "source": [
    "def my_mean(x):\n",
    "    return '{:.2%} '.format(x.mean())\n",
    "\n",
    "data.groupby('children')['debt'].agg(['count', 'sum', my_mean])"
   ]
  },
  {
   "cell_type": "markdown",
   "id": "6b9b3aec",
   "metadata": {},
   "source": [
    "Из  таблицы видно:\n",
    "* Респонденты без детей имеют меньше всего просрочек - `7,5%`\n",
    "* Чем больше детей, тем меньше люди берут кредит\n",
    "* Чем больше детей, тем больше вероятность что клиент не вернет кредит вовремя, кроме тех, у кого 3 детей.\n",
    "* Ввиду малого количества клиентов с `3`, `4` детьми в выборке, видно совсем небольшое увеличение процента невозврата.\n",
    "* Людей с `5` детьми слишком мало, чтобы говорить о том, что они возвращают кредит вовремя."
   ]
  },
  {
   "cell_type": "markdown",
   "id": "df9cf9f2",
   "metadata": {},
   "source": [
    "<a id='family_status'></a>\n",
    "## 3.2. Зависимость между семейным положением и возвратом кредита в срок. [^](#plan)"
   ]
  },
  {
   "cell_type": "code",
   "execution_count": 26,
   "id": "405a18ae",
   "metadata": {},
   "outputs": [
    {
     "data": {
      "text/html": [
       "<div>\n",
       "<style scoped>\n",
       "    .dataframe tbody tr th:only-of-type {\n",
       "        vertical-align: middle;\n",
       "    }\n",
       "\n",
       "    .dataframe tbody tr th {\n",
       "        vertical-align: top;\n",
       "    }\n",
       "\n",
       "    .dataframe thead th {\n",
       "        text-align: right;\n",
       "    }\n",
       "</style>\n",
       "<table border=\"1\" class=\"dataframe\">\n",
       "  <thead>\n",
       "    <tr style=\"text-align: right;\">\n",
       "      <th></th>\n",
       "      <th>count</th>\n",
       "      <th>sum</th>\n",
       "      <th>my_mean</th>\n",
       "    </tr>\n",
       "    <tr>\n",
       "      <th>family_status</th>\n",
       "      <th></th>\n",
       "      <th></th>\n",
       "      <th></th>\n",
       "    </tr>\n",
       "  </thead>\n",
       "  <tbody>\n",
       "    <tr>\n",
       "      <th>Не женат / не замужем</th>\n",
       "      <td>2796</td>\n",
       "      <td>273</td>\n",
       "      <td>9.76%</td>\n",
       "    </tr>\n",
       "    <tr>\n",
       "      <th>гражданский брак</th>\n",
       "      <td>4134</td>\n",
       "      <td>385</td>\n",
       "      <td>9.31%</td>\n",
       "    </tr>\n",
       "    <tr>\n",
       "      <th>женат / замужем</th>\n",
       "      <td>12261</td>\n",
       "      <td>927</td>\n",
       "      <td>7.56%</td>\n",
       "    </tr>\n",
       "    <tr>\n",
       "      <th>в разводе</th>\n",
       "      <td>1189</td>\n",
       "      <td>84</td>\n",
       "      <td>7.06%</td>\n",
       "    </tr>\n",
       "    <tr>\n",
       "      <th>вдовец / вдова</th>\n",
       "      <td>951</td>\n",
       "      <td>63</td>\n",
       "      <td>6.62%</td>\n",
       "    </tr>\n",
       "  </tbody>\n",
       "</table>\n",
       "</div>"
      ],
      "text/plain": [
       "                       count  sum my_mean\n",
       "family_status                            \n",
       "Не женат / не замужем   2796  273  9.76% \n",
       "гражданский брак        4134  385  9.31% \n",
       "женат / замужем        12261  927  7.56% \n",
       "в разводе               1189   84  7.06% \n",
       "вдовец / вдова           951   63  6.62% "
      ]
     },
     "execution_count": 26,
     "metadata": {},
     "output_type": "execute_result"
    }
   ],
   "source": [
    "data.groupby('family_status')['debt'].agg(['count', 'sum', my_mean]).sort_values('my_mean',ascending=False)"
   ]
  },
  {
   "cell_type": "markdown",
   "id": "fc686858",
   "metadata": {},
   "source": [
    "Из таблицы видно:\n",
    "* Респонденты, кто никогда не состоял в браке, имеют больше всего просрочек.   \n",
    "* Самые надежные это вдовцы, т.к. чаще всего это более возрастные люди и у них есть уже взрослые дети, кто может помочь с выплатами."
   ]
  },
  {
   "cell_type": "markdown",
   "id": "1d48ba5d",
   "metadata": {},
   "source": [
    "<a id='income'></a>\n",
    "## 3.3. Зависимость между уровнем дохода и возвратом кредита в срок. [^](#plan)"
   ]
  },
  {
   "cell_type": "markdown",
   "id": "2f6ef9f4",
   "metadata": {},
   "source": [
    "**Будем использовать категории, предложенные заказчиком:**\n",
    "\n",
    "- 0–30000 — `'E'`\n",
    "- 30001–50000 — `'D'`\n",
    "- 50001–200000 — `'C'`\n",
    "- 200001–1000000 — `'B'`\n",
    "- 1000001 и выше — `'A'`"
   ]
  },
  {
   "cell_type": "code",
   "execution_count": 27,
   "id": "98dc8ede",
   "metadata": {},
   "outputs": [
    {
     "data": {
      "text/html": [
       "<div>\n",
       "<style scoped>\n",
       "    .dataframe tbody tr th:only-of-type {\n",
       "        vertical-align: middle;\n",
       "    }\n",
       "\n",
       "    .dataframe tbody tr th {\n",
       "        vertical-align: top;\n",
       "    }\n",
       "\n",
       "    .dataframe thead th {\n",
       "        text-align: right;\n",
       "    }\n",
       "</style>\n",
       "<table border=\"1\" class=\"dataframe\">\n",
       "  <thead>\n",
       "    <tr style=\"text-align: right;\">\n",
       "      <th></th>\n",
       "      <th>count</th>\n",
       "      <th>sum</th>\n",
       "      <th>my_mean</th>\n",
       "    </tr>\n",
       "    <tr>\n",
       "      <th>total_income_category</th>\n",
       "      <th></th>\n",
       "      <th></th>\n",
       "      <th></th>\n",
       "    </tr>\n",
       "  </thead>\n",
       "  <tbody>\n",
       "    <tr>\n",
       "      <th>C</th>\n",
       "      <td>13831</td>\n",
       "      <td>1183</td>\n",
       "      <td>8.55%</td>\n",
       "    </tr>\n",
       "    <tr>\n",
       "      <th>E</th>\n",
       "      <td>2113</td>\n",
       "      <td>172</td>\n",
       "      <td>8.14%</td>\n",
       "    </tr>\n",
       "    <tr>\n",
       "      <th>A</th>\n",
       "      <td>25</td>\n",
       "      <td>2</td>\n",
       "      <td>8.00%</td>\n",
       "    </tr>\n",
       "    <tr>\n",
       "      <th>B</th>\n",
       "      <td>5013</td>\n",
       "      <td>354</td>\n",
       "      <td>7.06%</td>\n",
       "    </tr>\n",
       "    <tr>\n",
       "      <th>D</th>\n",
       "      <td>349</td>\n",
       "      <td>21</td>\n",
       "      <td>6.02%</td>\n",
       "    </tr>\n",
       "  </tbody>\n",
       "</table>\n",
       "</div>"
      ],
      "text/plain": [
       "                       count   sum my_mean\n",
       "total_income_category                     \n",
       "C                      13831  1183  8.55% \n",
       "E                       2113   172  8.14% \n",
       "A                         25     2  8.00% \n",
       "B                       5013   354  7.06% \n",
       "D                        349    21  6.02% "
      ]
     },
     "execution_count": 27,
     "metadata": {},
     "output_type": "execute_result"
    }
   ],
   "source": [
    "data.groupby('total_income_category')['debt'].agg(['count', 'sum', my_mean]).sort_values('my_mean',ascending=False)"
   ]
  },
  {
   "cell_type": "markdown",
   "id": "45a75d77",
   "metadata": {},
   "source": [
    "Видно, что меньше всего процент должников в категории `D` - `6%`. Больше всего процент должников в категории `C`. Но для категорий `D`,`A`,`E` слишком мало данных. Поэтому будет не совсем корректно опираться на эти значения.\n",
    "В категории `B` и `C` достаточно данных для того, чтобы говорить о том, что \"чем больше достаток\", тем меньше вероятность просрочек."
   ]
  },
  {
   "cell_type": "markdown",
   "id": "bcec9795",
   "metadata": {},
   "source": [
    "<a id='purpose'></a>\n",
    "## 3.4. Как разные цели кредита влияют на его возврат в срок. [^](#plan)"
   ]
  },
  {
   "cell_type": "code",
   "execution_count": 29,
   "id": "1f96d154",
   "metadata": {},
   "outputs": [
    {
     "data": {
      "text/html": [
       "<div>\n",
       "<style scoped>\n",
       "    .dataframe tbody tr th:only-of-type {\n",
       "        vertical-align: middle;\n",
       "    }\n",
       "\n",
       "    .dataframe tbody tr th {\n",
       "        vertical-align: top;\n",
       "    }\n",
       "\n",
       "    .dataframe thead th {\n",
       "        text-align: right;\n",
       "    }\n",
       "</style>\n",
       "<table border=\"1\" class=\"dataframe\">\n",
       "  <thead>\n",
       "    <tr style=\"text-align: right;\">\n",
       "      <th></th>\n",
       "      <th>count</th>\n",
       "      <th>sum</th>\n",
       "      <th>my_mean</th>\n",
       "    </tr>\n",
       "    <tr>\n",
       "      <th>purpose_category</th>\n",
       "      <th></th>\n",
       "      <th></th>\n",
       "      <th></th>\n",
       "    </tr>\n",
       "  </thead>\n",
       "  <tbody>\n",
       "    <tr>\n",
       "      <th>операции с автомобилем</th>\n",
       "      <td>4279</td>\n",
       "      <td>400</td>\n",
       "      <td>9.35%</td>\n",
       "    </tr>\n",
       "    <tr>\n",
       "      <th>получение образования</th>\n",
       "      <td>3988</td>\n",
       "      <td>369</td>\n",
       "      <td>9.25%</td>\n",
       "    </tr>\n",
       "    <tr>\n",
       "      <th>проведение свадьбы</th>\n",
       "      <td>2313</td>\n",
       "      <td>183</td>\n",
       "      <td>7.91%</td>\n",
       "    </tr>\n",
       "    <tr>\n",
       "      <th>операции с недвижимостью</th>\n",
       "      <td>10751</td>\n",
       "      <td>780</td>\n",
       "      <td>7.26%</td>\n",
       "    </tr>\n",
       "  </tbody>\n",
       "</table>\n",
       "</div>"
      ],
      "text/plain": [
       "                          count  sum my_mean\n",
       "purpose_category                            \n",
       "операции с автомобилем     4279  400  9.35% \n",
       "получение образования      3988  369  9.25% \n",
       "проведение свадьбы         2313  183  7.91% \n",
       "операции с недвижимостью  10751  780  7.26% "
      ]
     },
     "execution_count": 29,
     "metadata": {},
     "output_type": "execute_result"
    }
   ],
   "source": [
    "data.groupby('purpose_category')['debt'].agg(['count', 'sum', my_mean]).sort_values('my_mean',ascending=False)"
   ]
  },
  {
   "cell_type": "markdown",
   "id": "ea057d27",
   "metadata": {},
   "source": [
    "Респонденты чаще возвращают кредит в срок, когда берут кредит на `операции с недвижимостью` или `свадьбу`.\n",
    "Респонденты, кто берет кредит на `операции с авто`, чаще всех не оплачивают кредит вовремя. "
   ]
  },
  {
   "cell_type": "markdown",
   "id": "98bfc695",
   "metadata": {},
   "source": [
    "<a id='eda_resume'></a>\n",
    "## 3.5. Выводы по исследовательскому анализу данных (EDA). [^](#plan)"
   ]
  },
  {
   "cell_type": "markdown",
   "id": "ededbbb4",
   "metadata": {},
   "source": [
    "* Чем больше детей у респондента, тем больше риск что респондент не вернет кредит в срок.\n",
    "* Респонденты, которые женаты/замужем, вдовцы, разведенные чаще всех остальных отдают кредит в срок. А не женатые и состоящие в гражданском браке чаще всех остальных имеют просрочки.\n",
    "* Чем выше достаток у респондента, тем больше вероятность что респондент вернет кредит в срок.\n",
    "* Респонденты, берущие кредит на операции с авто и на образование, чаще всех имеют просрочки по кредиту."
   ]
  },
  {
   "cell_type": "markdown",
   "id": "a62080f5",
   "metadata": {},
   "source": [
    "<a id='total_resume'></a>\n",
    "# 4. Выводы  и рекомендации. [^](#plan)\n",
    "<a id='res'></a>\n",
    "## 4.1. Общий вывод. [^](#plan)"
   ]
  },
  {
   "cell_type": "markdown",
   "id": "e6ccc7d9",
   "metadata": {},
   "source": [
    "Кредитным отделом банка была поставлена задача, изучить информацию о надежности заемщиков. В распоряжении датасет со статистикой о платёжеспособности клиентов.\n",
    "\n",
    "* Датасет представлял из себя `21525` записей и `12` колонок\n",
    "* Перед изучением датасета провели предобработку данных.\n",
    "* Были заменены тыпы данных в столбцах `'days_employed'` и `'total_income'` на `int`\n",
    "* Удалили `71` явный дубликат\n",
    "* Заменили аномальные отрицательные значения в столбце `'days_employed'` на положительные значения\n",
    "* Обнаружили аномально большие значения в столбце `'invome_type'` для безработных и пенсионеров. Исправить такие значения не имеелось возможным, поэтому оставили все как есть.\n",
    "* Обнаружили и удалили `123` записи с аномальными значениями количества детей.\n",
    "* Заполнили пропуски в столбце `'total_income'` медианным значением по типу занятости.\n",
    "* Создали новые столбцы с категориями клиентов и категориями цели кредита, согласно заданию заказчика.\n",
    "\n",
    "**При изучении информации было выявлено:**\n",
    "* Чем больше детей у респондента, тем больше риск что респондент не вернет кредит в срок.\n",
    "* Респонденты, которые женаты/замужем, вдовцы, разведенные чаще всех остальных отдают кредит в срок. А не женатые и состоящие в гражданском браке чаще всех остальных имеют просрочки.\n",
    "* Чем выше достаток у респондента, тем больше вероятность что респондент вернет кредит в срок.\n",
    "* Респонденты, берущие кредит на операции с авто и на образование, чаще всех имеют просрочки по кредиту.\n",
    "\n",
    "**Категории надежности по количеству детей:**\n",
    "* Самые надежные - бездетные. Процент должников: `7.5%`\n",
    "* Самые ненадежные - с 4 детьми. Процент должников: `9,7%`\n",
    "\n",
    "**Категории надежности по семейному положению:**\n",
    "* Самые надежные - вдовцы. Процент должников: `6.6%`\n",
    "* Самые ненадежные - не женатые. Процент должников: `9,7%`\n",
    "\n",
    "**Категории надежности по уровню достатка:**\n",
    "* Самые надежные - с достатком 30001-50000. Процент должников: `6%`\n",
    "* Самые ненадежные - с достатком до 30000. Процент должников: `9%`\n",
    "\n",
    "**Категории надежности по цели на кредит:**\n",
    "* Самые надежные - с целью кредита на операции с недвижимостью. Процент должников: `7.2%`\n",
    "* Самые ненадежные - с целью кредита на операции с авто. Процент должников: `9.3%`\n",
    "\n",
    "**Портрет самого надежного заемщика**\n",
    "* Респондент не имеет детей, вдовец или женат/замужем, с достатком выше 200т.р, с целью кредита на операции с недвижимостью.\n",
    "\n",
    "**Портрет самого НЕнадежного заемщика**\n",
    "* Респондент имеющий 2 и более детей, не женат/не замужем, с достатком меньше 200т.р, с целью кредита на образование или авто."
   ]
  },
  {
   "cell_type": "markdown",
   "id": "367159b4",
   "metadata": {},
   "source": [
    "<a id='rec'></a>\n",
    "## 4.2. Рекомендации. [^](#plan)"
   ]
  },
  {
   "cell_type": "markdown",
   "id": "44863925",
   "metadata": {},
   "source": [
    "**На основании полученных данных можно разработать систему, которая бы учитывала: количество детей, семейное положение, уровень достатка и цель кредита и классифицировала заемщиков по `\"надежности\"`. Данная система позволит выдавать кредиты с меньшими рисками для банка. В любом случае, данную систему необходимо подвергнуть проверке**"
   ]
  }
 ],
 "metadata": {
  "kernelspec": {
   "display_name": "Python 3 (ipykernel)",
   "language": "python",
   "name": "python3"
  },
  "language_info": {
   "codemirror_mode": {
    "name": "ipython",
    "version": 3
   },
   "file_extension": ".py",
   "mimetype": "text/x-python",
   "name": "python",
   "nbconvert_exporter": "python",
   "pygments_lexer": "ipython3",
   "version": "3.9.12"
  },
  "toc": {
   "base_numbering": 1,
   "nav_menu": {},
   "number_sections": false,
   "sideBar": true,
   "skip_h1_title": false,
   "title_cell": "Table of Contents",
   "title_sidebar": "Contents",
   "toc_cell": false,
   "toc_position": {},
   "toc_section_display": true,
   "toc_window_display": false
  }
 },
 "nbformat": 4,
 "nbformat_minor": 5
}
